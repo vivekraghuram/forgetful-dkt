{
 "cells": [
  {
   "cell_type": "code",
   "execution_count": 1,
   "metadata": {},
   "outputs": [],
   "source": [
    "from forgetful_dkt.lstm import LSTM\n",
    "from forgetful_dkt.preprocess import DataProcessor\n",
    "import tensorflow as tf\n",
    "import numpy as np\n",
    "\n",
    "def initialize_sess():\n",
    "    global sess\n",
    "    ruv = set(sess.run(tf.report_uninitialized_variables()))\n",
    "    uv = [v for v in tf.global_variables() if v.name.split(':')[0].encode('ascii') in ruv]\n",
    "    tf.variables_initializer(uv).run()\n",
    "    \n",
    "def reset_sess():\n",
    "    global sess\n",
    "    tf.reset_default_graph()\n",
    "    sess.close()\n",
    "    sess = tf.InteractiveSession()    \n",
    "\n",
    "sess = tf.InteractiveSession()"
   ]
  },
  {
   "cell_type": "markdown",
   "metadata": {},
   "source": [
    "## Exponents 1"
   ]
  },
  {
   "cell_type": "code",
   "execution_count": 2,
   "metadata": {},
   "outputs": [],
   "source": [
    "dp = DataProcessor('vivek', ['exponents_1'], max_seq_length=200, min_seq_length=5)"
   ]
  },
  {
   "cell_type": "code",
   "execution_count": 3,
   "metadata": {},
   "outputs": [],
   "source": [
    "correctness_only_data = dp.correctness_only(verbose=False).get_data()\n",
    "by_exercise_bucket_data = dp.bucketed_delay_by_exercise([3, 24, None], [3], False, verbose=False).get_data()\n",
    "aggregate_bucket_data = dp.bucketed_delay_aggregate([3, 24, None], [3], False, verbose=False).get_data()\n",
    "\n",
    "datasets = [correctness_only_data, by_exercise_bucket_data, aggregate_bucket_data]\n",
    "names = [\"correctness_only_data\", \"by_exercise_bucket_data\", \"aggregate_bucket_data\"]"
   ]
  },
  {
   "cell_type": "code",
   "execution_count": 4,
   "metadata": {
    "scrolled": false
   },
   "outputs": [
    {
     "name": "stdout",
     "output_type": "stream",
     "text": [
      "correctness_only_data\n",
      "Fold 1\n",
      "Accuracy: 0.761896, Baseline: 0.574172, AUC: 0.815890, MAE: 0.345147, CE: 5.785039\n",
      "Fold 2\n",
      "Accuracy: 0.757606, Baseline: 0.576367, AUC: 0.820316, MAE: 0.334874, CE: 6.062336\n",
      "Fold 3\n",
      "Accuracy: 0.773418, Baseline: 0.577905, AUC: 0.834413, MAE: 0.324727, CE: 5.600109\n",
      "Fold 4\n",
      "Accuracy: 0.763578, Baseline: 0.580718, AUC: 0.821398, MAE: 0.333564, CE: 5.622003\n",
      "Fold 5\n",
      "Accuracy: 0.777008, Baseline: 0.559161, AUC: 0.839170, MAE: 0.335534, CE: 5.911434\n",
      "Fold 6\n",
      "Accuracy: 0.756187, Baseline: 0.568581, AUC: 0.814510, MAE: 0.339062, CE: 5.660040\n",
      "Fold 7\n",
      "Accuracy: 0.764700, Baseline: 0.563000, AUC: 0.831110, MAE: 0.330790, CE: 6.060083\n",
      "Fold 8\n",
      "Accuracy: 0.757235, Baseline: 0.562199, AUC: 0.818641, MAE: 0.338212, CE: 6.030465\n",
      "Fold 9\n",
      "Accuracy: 0.761724, Baseline: 0.558193, AUC: 0.826868, MAE: 0.334995, CE: 5.677088\n",
      "Fold 10\n",
      "Accuracy: 0.764909, Baseline: 0.558945, AUC: 0.824199, MAE: 0.336777, CE: 5.918892\n",
      "Fold 11\n",
      "Accuracy: 0.761600, Baseline: 0.562133, AUC: 0.821619, MAE: 0.336787, CE: 6.409046\n",
      "Fold 12\n",
      "Accuracy: 0.761905, Baseline: 0.585260, AUC: 0.817775, MAE: 0.333036, CE: 5.922734\n",
      "Fold 13\n",
      "Accuracy: 0.773361, Baseline: 0.576050, AUC: 0.832588, MAE: 0.327259, CE: 5.826122\n",
      "Fold 14\n",
      "Accuracy: 0.765105, Baseline: 0.568579, AUC: 0.825148, MAE: 0.330088, CE: 5.711403\n",
      "Fold 15\n",
      "Accuracy: 0.771423, Baseline: 0.555936, AUC: 0.831372, MAE: 0.337654, CE: 6.027621\n",
      "Average Accuracy: 0.76477699, Average AUC 0.82500107, Average MAE 0.33456701, Average CE: 0.00006601\n",
      "by_exercise_bucket_data\n",
      "Fold 1\n",
      "Accuracy: 0.759483, Baseline: 0.574172, AUC: 0.816256, MAE: 0.344016, CE: 5.785732\n",
      "Fold 2\n",
      "Accuracy: 0.759123, Baseline: 0.576367, AUC: 0.821770, MAE: 0.336067, CE: 6.060211\n",
      "Fold 3\n",
      "Accuracy: 0.771260, Baseline: 0.577905, AUC: 0.835074, MAE: 0.321911, CE: 5.599094\n",
      "Fold 4\n",
      "Accuracy: 0.762451, Baseline: 0.580718, AUC: 0.823420, MAE: 0.333594, CE: 5.621320\n",
      "Fold 5\n",
      "Accuracy: 0.777503, Baseline: 0.559161, AUC: 0.841972, MAE: 0.330115, CE: 5.907944\n",
      "Fold 6\n",
      "Accuracy: 0.755432, Baseline: 0.568581, AUC: 0.815569, MAE: 0.337425, CE: 5.659763\n",
      "Fold 7\n",
      "Accuracy: 0.766117, Baseline: 0.563000, AUC: 0.831158, MAE: 0.332651, CE: 6.059719\n",
      "Fold 8\n",
      "Accuracy: 0.757436, Baseline: 0.562199, AUC: 0.819836, MAE: 0.337246, CE: 6.029376\n",
      "Fold 9\n",
      "Accuracy: 0.761534, Baseline: 0.558193, AUC: 0.829201, MAE: 0.333013, CE: 5.674823\n",
      "Fold 10\n",
      "Accuracy: 0.764909, Baseline: 0.558945, AUC: 0.824503, MAE: 0.337415, CE: 5.917966\n",
      "Fold 11\n",
      "Accuracy: 0.760213, Baseline: 0.562133, AUC: 0.823719, MAE: 0.336274, CE: 6.408223\n",
      "Fold 12\n",
      "Accuracy: 0.761806, Baseline: 0.585260, AUC: 0.819267, MAE: 0.333188, CE: 5.920937\n",
      "Fold 13\n",
      "Accuracy: 0.773750, Baseline: 0.576050, AUC: 0.834597, MAE: 0.327691, CE: 5.822253\n",
      "Fold 14\n",
      "Accuracy: 0.764055, Baseline: 0.568579, AUC: 0.824237, MAE: 0.329634, CE: 5.713314\n",
      "Fold 15\n",
      "Accuracy: 0.770517, Baseline: 0.555936, AUC: 0.831945, MAE: 0.336928, CE: 6.027054\n",
      "Average Accuracy: 0.76437245, Average AUC 0.82616842, Average MAE 0.33381120, Average CE: 0.00006600\n",
      "aggregate_bucket_data\n",
      "Fold 1\n",
      "Accuracy: 0.760544, Baseline: 0.574172, AUC: 0.817576, MAE: 0.345112, CE: 5.784767\n",
      "Fold 2\n",
      "Accuracy: 0.758112, Baseline: 0.576367, AUC: 0.821801, MAE: 0.333505, CE: 6.061040\n",
      "Fold 3\n",
      "Accuracy: 0.771917, Baseline: 0.577905, AUC: 0.834716, MAE: 0.323799, CE: 5.599914\n",
      "Fold 4\n",
      "Accuracy: 0.761511, Baseline: 0.580718, AUC: 0.822390, MAE: 0.333587, CE: 5.621370\n",
      "Fold 5\n",
      "Accuracy: 0.777206, Baseline: 0.559161, AUC: 0.841273, MAE: 0.331547, CE: 5.908629\n",
      "Fold 6\n",
      "Accuracy: 0.756187, Baseline: 0.568581, AUC: 0.816350, MAE: 0.339008, CE: 5.658060\n",
      "Fold 7\n",
      "Accuracy: 0.763789, Baseline: 0.563000, AUC: 0.832474, MAE: 0.329554, CE: 6.058239\n",
      "Fold 8\n",
      "Accuracy: 0.757637, Baseline: 0.562199, AUC: 0.820496, MAE: 0.337991, CE: 6.028615\n",
      "Fold 9\n",
      "Accuracy: 0.761629, Baseline: 0.558193, AUC: 0.828822, MAE: 0.334159, CE: 5.675203\n",
      "Fold 10\n",
      "Accuracy: 0.766193, Baseline: 0.558945, AUC: 0.825033, MAE: 0.334664, CE: 5.917336\n",
      "Fold 11\n",
      "Accuracy: 0.762133, Baseline: 0.562133, AUC: 0.823350, MAE: 0.337651, CE: 6.407262\n",
      "Fold 12\n",
      "Accuracy: 0.761510, Baseline: 0.585260, AUC: 0.819011, MAE: 0.334200, CE: 5.920932\n",
      "Fold 13\n",
      "Accuracy: 0.773555, Baseline: 0.576050, AUC: 0.833913, MAE: 0.330636, CE: 5.824755\n",
      "Fold 14\n",
      "Accuracy: 0.764055, Baseline: 0.568579, AUC: 0.826302, MAE: 0.331558, CE: 5.709758\n",
      "Fold 15\n",
      "Accuracy: 0.770718, Baseline: 0.555936, AUC: 0.832816, MAE: 0.336200, CE: 6.026551\n",
      "Average Accuracy: 0.76444639, Average AUC 0.82642158, Average MAE 0.33421145, Average CE: 0.00006600\n"
     ]
    }
   ],
   "source": [
    "scores = {}\n",
    "for data, name in zip(datasets, names):\n",
    "    print(name)\n",
    "    reset_sess()\n",
    "    lstm = LSTM(hidden_dim=200,\n",
    "                output_dim=data.targets.shape[2],\n",
    "                input_dim=data.inputs.shape[2],\n",
    "                learning_rate=1e-2,\n",
    "                batch_size=64,\n",
    "                num_layers=1)\n",
    "\n",
    "    lstm.build_model(tf.sigmoid)\n",
    "\n",
    "    k = 15\n",
    "    scores[name] = {\n",
    "        \"accuracy\": [],\n",
    "        \"baseline\": [], # should be identical for all groups\n",
    "        \"AUC\": [],\n",
    "        \"MAE\": [],\n",
    "        \"CE\": []\n",
    "    }\n",
    "    for fold in data.k_fold(k):\n",
    "        print(\"Fold %d\" % fold)\n",
    "        tf.global_variables_initializer().run()\n",
    "        lstm.train(sess, data, epochs=3)\n",
    "        acc, baseline, auc, mae, ce = lstm.test(sess, data)\n",
    "        scores[name][\"accuracy\"].append(acc)\n",
    "        scores[name][\"baseline\"].append(baseline)\n",
    "        scores[name][\"AUC\"].append(auc)\n",
    "        scores[name][\"MAE\"].append(mae)\n",
    "        scores[name][\"CE\"].append(ce)\n",
    "        \n",
    "    \n",
    "    print(\"Average Accuracy: %.8f, Average AUC %.8f, Average MAE %.8f, Average CE: %.8f\" % (np.mean(scores[name][\"accuracy\"]),\n",
    "                                                                                            np.mean(scores[name][\"AUC\"]),\n",
    "                                                                                            np.mean(scores[name][\"MAE\"]),\n",
    "                                                                                            np.mean(scores[name][\"CE\"])))\n"
   ]
  },
  {
   "cell_type": "markdown",
   "metadata": {},
   "source": [
    "## Set of Exercises"
   ]
  },
  {
   "cell_type": "code",
   "execution_count": 5,
   "metadata": {},
   "outputs": [],
   "source": [
    "dpset = DataProcessor('vivek', ['exponents_1', 'exponent_rules', 'positive_and_zero_exponents',\n",
    "                                'properties-of-integer-exponents', 'square_roots_2',\n",
    "                                'equations-w-square-and-cube-roots', 'scientific_notation',\n",
    "                                'computing-in-scientific-notation'], max_seq_length=200, min_seq_length=5)"
   ]
  },
  {
   "cell_type": "code",
   "execution_count": 6,
   "metadata": {},
   "outputs": [],
   "source": [
    "correctness_only_dataset = dpset.correctness_only(verbose=False).get_data()\n",
    "by_exercise_bucket_dataset = dpset.bucketed_delay_by_exercise([3, 24, None], [3], False, verbose=False).get_data()\n",
    "aggregate_bucket_dataset = dpset.bucketed_delay_aggregate([3, 24, None], [3], False, verbose=False).get_data()\n",
    "\n",
    "datasets2 = [correctness_only_dataset, by_exercise_bucket_dataset, aggregate_bucket_dataset]\n",
    "names2 = [\"correctness_only_dataset\", \"by_exercise_bucket_dataset\", \"aggregate_bucket_dataset\"]"
   ]
  },
  {
   "cell_type": "code",
   "execution_count": null,
   "metadata": {
    "scrolled": false
   },
   "outputs": [
    {
     "name": "stdout",
     "output_type": "stream",
     "text": [
      "correctness_only_dataset\n",
      "Fold 1\n",
      "Accuracy: 0.783637, Baseline: 0.572332, AUC: 0.845052, MAE: 0.315468, CE: 4.383525\n",
      "Fold 2\n",
      "Accuracy: 0.781705, Baseline: 0.569916, AUC: 0.845828, MAE: 0.313077, CE: 4.545111\n",
      "Fold 3\n",
      "Accuracy: 0.783796, Baseline: 0.557408, AUC: 0.847991, MAE: 0.316302, CE: 4.800210\n",
      "Fold 4\n",
      "Accuracy: 0.777034, Baseline: 0.572421, AUC: 0.839978, MAE: 0.314568, CE: 4.902726\n",
      "Fold 5\n",
      "Accuracy: 0.789529, Baseline: 0.575560, AUC: 0.852526, MAE: 0.306917, CE: 4.424143\n",
      "Fold 6\n",
      "Accuracy: 0.784389, Baseline: 0.564427, AUC: 0.847234, MAE: 0.309965, CE: 4.501824\n",
      "Fold 7\n",
      "Accuracy: 0.781574, Baseline: 0.548303, AUC: 0.847316, MAE: 0.309996, CE: 4.516862\n",
      "Fold 8\n",
      "Accuracy: 0.785989, Baseline: 0.565934, AUC: 0.848407, MAE: 0.310019, CE: 4.634341\n",
      "Fold 9\n",
      "Accuracy: 0.781063, Baseline: 0.566270, AUC: 0.846575, MAE: 0.316068, CE: 4.359683\n",
      "Fold 10\n",
      "Accuracy: 0.781143, Baseline: 0.563366, AUC: 0.843649, MAE: 0.316516, CE: 4.558907\n",
      "Fold 11\n",
      "Accuracy: 0.783114, Baseline: 0.556832, AUC: 0.848705, MAE: 0.315399, CE: 4.768249\n",
      "Fold 12\n",
      "Accuracy: 0.779070, Baseline: 0.563481, AUC: 0.839972, MAE: 0.315056, CE: 4.286655\n",
      "Fold 13\n",
      "Accuracy: 0.785817, Baseline: 0.559216, AUC: 0.851441, MAE: 0.311069, CE: 4.445367\n",
      "Fold 14\n",
      "Accuracy: 0.787918, Baseline: 0.560165, AUC: 0.849724, MAE: 0.312095, CE: 4.405509\n",
      "Fold 15\n",
      "Accuracy: 0.786052, Baseline: 0.568750, AUC: 0.851159, MAE: 0.309564, CE: 4.489562\n",
      "Average Accuracy: 0.78345524, Average AUC 0.84703710, Average MAE 0.31280529, Average CE: 0.00002548\n",
      "by_exercise_bucket_dataset\n",
      "Fold 1\n",
      "Accuracy: 0.782670, Baseline: 0.572332, AUC: 0.844967, MAE: 0.313920, CE: 4.384011\n",
      "Fold 2\n",
      "Accuracy: 0.780203, Baseline: 0.569916, AUC: 0.844820, MAE: 0.314423, CE: 4.546686\n",
      "Fold 3\n",
      "Accuracy: 0.781646, Baseline: 0.557408, AUC: 0.846771, MAE: 0.319719, CE: 4.803261\n",
      "Fold 4\n",
      "Accuracy: 0.776662, Baseline: 0.572421, AUC: 0.839049, MAE: 0.314088, CE: 4.904738\n",
      "Fold 5\n",
      "Accuracy: 0.788890, Baseline: 0.575560, AUC: 0.853261, MAE: 0.306882, CE: 4.423816\n",
      "Fold 6\n",
      "Accuracy: 0.783779, Baseline: 0.564427, AUC: 0.847826, MAE: 0.313096, CE: 4.501397\n",
      "Fold 7\n",
      "Accuracy: 0.778666, Baseline: 0.548303, AUC: 0.846463, MAE: 0.311234, CE: 4.518882\n",
      "Fold 8\n",
      "Accuracy: 0.785518, Baseline: 0.565934, AUC: 0.848455, MAE: 0.311934, CE: 4.634004\n",
      "Fold 9\n",
      "Accuracy: 0.781507, Baseline: 0.566270, AUC: 0.846212, MAE: 0.314972, CE: 4.360080\n",
      "Fold 10\n",
      "Accuracy: 0.781066, Baseline: 0.563366, AUC: 0.843260, MAE: 0.311992, CE: 4.559516\n",
      "Fold 11\n",
      "Accuracy: 0.781783, Baseline: 0.556832, AUC: 0.847928, MAE: 0.314885, CE: 4.770133\n",
      "Fold 12\n",
      "Accuracy: 0.777071, Baseline: 0.563481, AUC: 0.839591, MAE: 0.315147, CE: 4.288773\n",
      "Fold 13\n",
      "Accuracy: 0.784684, Baseline: 0.559216, AUC: 0.849870, MAE: 0.309101, CE: 4.447751\n",
      "Fold 14\n",
      "Accuracy: 0.786834, Baseline: 0.560165, AUC: 0.851048, MAE: 0.313289, CE: 4.404612\n",
      "Fold 15\n",
      "Accuracy: 0.785213, Baseline: 0.568750, AUC: 0.849742, MAE: 0.314619, CE: 4.492424\n",
      "Average Accuracy: 0.78241276, Average AUC 0.84661748, Average MAE 0.31328673, Average CE: 0.00002548\n",
      "aggregate_bucket_dataset\n",
      "Fold 1\n",
      "Accuracy: 0.782001, Baseline: 0.572332, AUC: 0.845547, MAE: 0.315285, CE: 4.383259\n",
      "Fold 2\n",
      "Accuracy: 0.781204, Baseline: 0.569916, AUC: 0.845681, MAE: 0.311346, CE: 4.545007\n",
      "Fold 3\n",
      "Accuracy: 0.780834, Baseline: 0.557408, AUC: 0.846700, MAE: 0.322903, CE: 4.804150\n",
      "Fold 4\n",
      "Accuracy: 0.776124, Baseline: 0.572421, AUC: 0.838788, MAE: 0.318911, CE: 4.904959\n",
      "Fold 5\n",
      "Accuracy: 0.788326, Baseline: 0.575560, AUC: 0.852532, MAE: 0.304525, CE: 4.424920\n",
      "Fold 6\n",
      "Accuracy: 0.784771, Baseline: 0.564427, AUC: 0.847118, MAE: 0.312856, CE: 4.502973\n",
      "Fold 7\n",
      "Accuracy: 0.780044, Baseline: 0.548303, AUC: 0.846886, MAE: 0.312277, CE: 4.518559\n",
      "Fold 8\n",
      "Accuracy: 0.785518, Baseline: 0.565934, AUC: 0.848211, MAE: 0.312734, CE: 4.634529\n",
      "Fold 9\n",
      "Accuracy: 0.782062, Baseline: 0.566270, AUC: 0.846648, MAE: 0.310261, CE: 4.360320\n",
      "Fold 10\n",
      "Accuracy: 0.780988, Baseline: 0.563366, AUC: 0.844098, MAE: 0.318157, CE: 4.559534\n",
      "Fold 11\n",
      "Accuracy: 0.782509, Baseline: 0.556832, AUC: 0.848745, MAE: 0.309497, CE: 4.768230\n",
      "Fold 12\n",
      "Accuracy: 0.776235, Baseline: 0.563481, AUC: 0.840074, MAE: 0.315127, CE: 4.287052\n",
      "Fold 13\n",
      "Accuracy: 0.785024, Baseline: 0.559216, AUC: 0.850679, MAE: 0.311913, CE: 4.447559\n",
      "Fold 14\n"
     ]
    }
   ],
   "source": [
    "scores2 = {}\n",
    "for data, name in zip(datasets2, names2):\n",
    "    print(name)\n",
    "    reset_sess()\n",
    "    lstm = LSTM(hidden_dim=200,\n",
    "                output_dim=data.targets.shape[2],\n",
    "                input_dim=data.inputs.shape[2],\n",
    "                learning_rate=1e-2,\n",
    "                batch_size=64,\n",
    "                num_layers=1)\n",
    "\n",
    "    lstm.build_model(tf.sigmoid)\n",
    "\n",
    "    k = 15\n",
    "    scores2[name] = {\n",
    "        \"accuracy\": [],\n",
    "        \"baseline\": [], # should be identical for all groups\n",
    "        \"AUC\": [],\n",
    "        \"MAE\": [],\n",
    "        \"CE\": []\n",
    "    }\n",
    "    for fold in data.k_fold(k):\n",
    "        print(\"Fold %d\" % fold)\n",
    "        tf.global_variables_initializer().run()\n",
    "        lstm.train(sess, data, epochs=3)\n",
    "        acc, baseline, auc, mae, ce = lstm.test(sess, data)\n",
    "        scores2[name][\"accuracy\"].append(acc)\n",
    "        scores2[name][\"baseline\"].append(baseline)\n",
    "        scores2[name][\"AUC\"].append(auc)\n",
    "        scores2[name][\"MAE\"].append(mae)\n",
    "        scores2[name][\"CE\"].append(ce)\n",
    "        \n",
    "    \n",
    "    print(\"Average Accuracy: %.8f, Average AUC %.8f, Average MAE %.8f, Average CE: %.8f\" % (np.mean(scores2[name][\"accuracy\"]),\n",
    "                                                                                            np.mean(scores2[name][\"AUC\"]),\n",
    "                                                                                            np.mean(scores2[name][\"MAE\"]),\n",
    "                                                                                            np.mean(scores2[name][\"CE\"])))\n",
    "\n"
   ]
  },
  {
   "cell_type": "markdown",
   "metadata": {},
   "source": [
    "Fold 14  \n",
    "Accuracy: 0.786946, Baseline: 0.560165, AUC: 0.850685, MAE: 0.314490, CE: 4.405485  \n",
    "Fold 15  \n",
    "Accuracy: 0.787081, Baseline: 0.568750, AUC: 0.850862, MAE: 0.309178, CE: 4.489941  \n",
    "\n",
    "###### Error prevented all output from printing properly"
   ]
  },
  {
   "cell_type": "markdown",
   "metadata": {},
   "source": [
    "## Paired T-tests"
   ]
  },
  {
   "cell_type": "code",
   "execution_count": 8,
   "metadata": {},
   "outputs": [],
   "source": [
    "import scipy.stats as stats"
   ]
  },
  {
   "cell_type": "markdown",
   "metadata": {},
   "source": [
    "### Exponents 1"
   ]
  },
  {
   "cell_type": "code",
   "execution_count": 9,
   "metadata": {},
   "outputs": [],
   "source": [
    "exponents_correctness_only = scores[\"correctness_only_data\"]                \n",
    "exponents_by_exercise_buckets = scores[\"by_exercise_bucket_data\"]\n",
    "exponents_aggregate_buckets = scores[\"aggregate_bucket_data\"]"
   ]
  },
  {
   "cell_type": "code",
   "execution_count": 10,
   "metadata": {},
   "outputs": [
    {
     "name": "stdout",
     "output_type": "stream",
     "text": [
      "Correctness vs. By Exercise Buckets\n",
      "  Accuracy: t-statistic 1.362737, p-value 0.194485\n",
      "  AUC: t-statistic -4.503897, p-value 0.000495\n",
      "  MAE: t-statistic 1.650350, p-value 0.121118\n"
     ]
    }
   ],
   "source": [
    "print(\"Correctness vs. By Exercise Buckets\")\n",
    "acc_result = stats.ttest_rel(exponents_correctness_only[\"accuracy\"], exponents_by_exercise_buckets[\"accuracy\"])\n",
    "auc_result = stats.ttest_rel(exponents_correctness_only[\"AUC\"], exponents_by_exercise_buckets[\"AUC\"])\n",
    "mae_result = stats.ttest_rel(exponents_correctness_only[\"MAE\"], exponents_by_exercise_buckets[\"MAE\"])\n",
    "print(\"  Accuracy: t-statistic %.6f, p-value %.6f\" % acc_result)\n",
    "print(\"  AUC: t-statistic %.6f, p-value %.6f\" % auc_result)\n",
    "print(\"  MAE: t-statistic %.6f, p-value %.6f\" % mae_result)"
   ]
  },
  {
   "cell_type": "code",
   "execution_count": 11,
   "metadata": {},
   "outputs": [
    {
     "name": "stdout",
     "output_type": "stream",
     "text": [
      "Correctness vs. Aggregate Buckets\n",
      "  Accuracy: t-statistic 1.398514, p-value 0.183719\n",
      "  AUC: t-statistic -11.543629, p-value 0.000000\n",
      "  MAE: t-statistic 0.802218, p-value 0.435834\n"
     ]
    }
   ],
   "source": [
    "print(\"Correctness vs. Aggregate Buckets\")\n",
    "acc_result = stats.ttest_rel(exponents_correctness_only[\"accuracy\"], exponents_aggregate_buckets[\"accuracy\"])\n",
    "auc_result = stats.ttest_rel(exponents_correctness_only[\"AUC\"], exponents_aggregate_buckets[\"AUC\"])\n",
    "mae_result = stats.ttest_rel(exponents_correctness_only[\"MAE\"], exponents_aggregate_buckets[\"MAE\"])\n",
    "print(\"  Accuracy: t-statistic %.6f, p-value %.6f\" % acc_result)\n",
    "print(\"  AUC: t-statistic %.6f, p-value %.6f\" % auc_result)\n",
    "print(\"  MAE: t-statistic %.6f, p-value %.6f\" % mae_result)"
   ]
  },
  {
   "cell_type": "markdown",
   "metadata": {},
   "source": [
    "### Set of Exercises"
   ]
  },
  {
   "cell_type": "code",
   "execution_count": null,
   "metadata": {},
   "outputs": [],
   "source": [
    "names2 = [\"correctness_only_dataset\", \"by_exercise_bucket_dataset\", \"aggregate_bucket_dataset\"]\n",
    "set_correctness_only = scores2[\"correctness_only_dataset\"]\n",
    "set_by_exercise_buckets = scores2[\"by_exercise_bucket_dataset\"]\n",
    "set_aggregate_buckets = scores2[\"aggregate_bucket_dataset\"]"
   ]
  },
  {
   "cell_type": "code",
   "execution_count": 21,
   "metadata": {},
   "outputs": [
    {
     "name": "stdout",
     "output_type": "stream",
     "text": [
      "Correctness vs. By Exercise Buckets\n",
      "  Accuracy: t-statistic 4.721367, p-value 0.000328\n",
      "  AUC: t-statistic 1.961256, p-value 0.070051\n",
      "  MAE: t-statistic -0.777902, p-value 0.449574\n"
     ]
    }
   ],
   "source": [
    "print(\"Correctness vs. By Exercise Buckets\")\n",
    "acc_result = stats.ttest_rel(set_correctness_only[\"accuracy\"], set_by_exercise_buckets[\"accuracy\"])\n",
    "auc_result = stats.ttest_rel(set_correctness_only[\"AUC\"], set_by_exercise_buckets[\"AUC\"])\n",
    "mae_result = stats.ttest_rel(set_correctness_only[\"MAE\"], set_by_exercise_buckets[\"MAE\"])\n",
    "print(\"  Accuracy: t-statistic %.6f, p-value %.6f\" % acc_result)\n",
    "print(\"  AUC: t-statistic %.6f, p-value %.6f\" % auc_result)\n",
    "print(\"  MAE: t-statistic %.6f, p-value %.6f\" % mae_result)"
   ]
  },
  {
   "cell_type": "code",
   "execution_count": 22,
   "metadata": {},
   "outputs": [
    {
     "name": "stdout",
     "output_type": "stream",
     "text": [
      "Correctness vs. Aggregate Buckets\n",
      "  Accuracy: t-statistic 2.565743, p-value 0.022422\n",
      "  AUC: t-statistic 1.076089, p-value 0.300082\n",
      "  MAE: t-statistic -0.599214, p-value 0.558603\n"
     ]
    }
   ],
   "source": [
    "print(\"Correctness vs. Aggregate Buckets\")\n",
    "acc_result = stats.ttest_rel(set_correctness_only[\"accuracy\"], set_aggregate_buckets[\"accuracy\"])\n",
    "auc_result = stats.ttest_rel(set_correctness_only[\"AUC\"], set_aggregate_buckets[\"AUC\"])\n",
    "mae_result = stats.ttest_rel(set_correctness_only[\"MAE\"], set_aggregate_buckets[\"MAE\"])\n",
    "print(\"  Accuracy: t-statistic %.6f, p-value %.6f\" % acc_result)\n",
    "print(\"  AUC: t-statistic %.6f, p-value %.6f\" % auc_result)\n",
    "print(\"  MAE: t-statistic %.6f, p-value %.6f\" % mae_result)"
   ]
  },
  {
   "cell_type": "markdown",
   "metadata": {},
   "source": [
    "## Training Data Analysis"
   ]
  },
  {
   "cell_type": "code",
   "execution_count": 51,
   "metadata": {},
   "outputs": [],
   "source": [
    "import pandas as pd"
   ]
  },
  {
   "cell_type": "code",
   "execution_count": 52,
   "metadata": {},
   "outputs": [],
   "source": [
    "dpsetdf = dpset.raw_data.copy()\n",
    "dpdf = dp.raw_data.copy()"
   ]
  },
  {
   "cell_type": "code",
   "execution_count": 53,
   "metadata": {},
   "outputs": [],
   "source": [
    "dpdf['datetime'] = pd.to_datetime(dpdf['date'] * 10**9)\n",
    "dpdf['_count'] = 1\n",
    "\n",
    "dpsetdf['datetime'] = pd.to_datetime(dpdf['date'] * 10**9)\n",
    "dpsetdf['_count'] = 1"
   ]
  },
  {
   "cell_type": "code",
   "execution_count": 54,
   "metadata": {
    "scrolled": true
   },
   "outputs": [
    {
     "data": {
      "text/plain": [
       "count    6917.000000\n",
       "mean       23.736736\n",
       "std        24.754204\n",
       "min         5.000000\n",
       "25%         8.000000\n",
       "50%        15.000000\n",
       "75%        29.000000\n",
       "max       200.000000\n",
       "Name: _count, dtype: float64"
      ]
     },
     "execution_count": 54,
     "metadata": {},
     "output_type": "execute_result"
    }
   ],
   "source": [
    "dpdf.groupby(['uid']).sum()['_count'].describe()"
   ]
  },
  {
   "cell_type": "code",
   "execution_count": 55,
   "metadata": {
    "scrolled": true
   },
   "outputs": [
    {
     "data": {
      "text/plain": [
       "count                     157270\n",
       "mean      2 days 00:19:29.261219\n",
       "std      24 days 04:48:20.601453\n",
       "min              0 days 00:00:00\n",
       "25%              0 days 00:00:00\n",
       "50%              0 days 00:00:08\n",
       "75%              0 days 00:00:33\n",
       "max           1368 days 19:00:16\n",
       "Name: datetime, dtype: object"
      ]
     },
     "execution_count": 55,
     "metadata": {},
     "output_type": "execute_result"
    }
   ],
   "source": [
    "sorted_df = dpdf.sort_values('datetime', ascending=True)\n",
    "sorted_df.groupby('uid')['datetime'].diff().describe()"
   ]
  },
  {
   "cell_type": "code",
   "execution_count": 56,
   "metadata": {
    "scrolled": true
   },
   "outputs": [
    {
     "data": {
      "text/plain": [
       "count    13442.000000\n",
       "mean        30.066136\n",
       "std         32.034656\n",
       "min          5.000000\n",
       "25%          9.000000\n",
       "50%         19.000000\n",
       "75%         37.000000\n",
       "max        200.000000\n",
       "Name: _count, dtype: float64"
      ]
     },
     "execution_count": 56,
     "metadata": {},
     "output_type": "execute_result"
    }
   ],
   "source": [
    "dpsetdf.groupby(['uid']).sum()['_count'].describe()"
   ]
  },
  {
   "cell_type": "code",
   "execution_count": 57,
   "metadata": {},
   "outputs": [
    {
     "data": {
      "text/plain": [
       "count                    256763\n",
       "mean     0 days 00:08:48.275035\n",
       "std      0 days 01:29:35.419536\n",
       "min             0 days 00:00:00\n",
       "25%             0 days 00:00:00\n",
       "50%             0 days 00:00:00\n",
       "75%             0 days 00:00:13\n",
       "max             3 days 17:34:09\n",
       "Name: datetime, dtype: object"
      ]
     },
     "execution_count": 57,
     "metadata": {},
     "output_type": "execute_result"
    }
   ],
   "source": [
    "sorteddf = dpsetdf.sort_values('datetime', ascending=True)\n",
    "# sorteddf.groupby('uid')['datetime'].diff().describe()\n",
    "sorteddf['datetime'].diff().describe()"
   ]
  },
  {
   "cell_type": "code",
   "execution_count": null,
   "metadata": {},
   "outputs": [],
   "source": []
  }
 ],
 "metadata": {
  "kernelspec": {
   "display_name": "Python 3",
   "language": "python",
   "name": "python3"
  },
  "language_info": {
   "codemirror_mode": {
    "name": "ipython",
    "version": 3
   },
   "file_extension": ".py",
   "mimetype": "text/x-python",
   "name": "python",
   "nbconvert_exporter": "python",
   "pygments_lexer": "ipython3",
   "version": "3.4.3"
  }
 },
 "nbformat": 4,
 "nbformat_minor": 2
}
