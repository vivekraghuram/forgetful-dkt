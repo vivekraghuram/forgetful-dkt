{
 "cells": [
  {
   "cell_type": "code",
   "execution_count": 1,
   "metadata": {},
   "outputs": [],
   "source": [
    "from forgetful_dkt.lstm import LSTM\n",
    "from forgetful_dkt.preprocess import DataProcessor\n",
    "import tensorflow as tf\n",
    "import numpy as np\n",
    "\n",
    "def initialize_sess():\n",
    "    global sess\n",
    "    ruv = set(sess.run(tf.report_uninitialized_variables()))\n",
    "    uv = [v for v in tf.global_variables() if v.name.split(':')[0].encode('ascii') in ruv]\n",
    "    tf.variables_initializer(uv).run()\n",
    "    \n",
    "def reset_sess():\n",
    "    global sess\n",
    "    tf.reset_default_graph()\n",
    "    sess.close()\n",
    "    sess = tf.InteractiveSession()    \n",
    "\n",
    "sess = tf.InteractiveSession()"
   ]
  },
  {
   "cell_type": "markdown",
   "metadata": {},
   "source": [
    "## Exponents 1"
   ]
  },
  {
   "cell_type": "code",
   "execution_count": 2,
   "metadata": {},
   "outputs": [],
   "source": [
    "dp = DataProcessor('vivek', ['exponents_1'], max_seq_length=200, min_seq_length=5)"
   ]
  },
  {
   "cell_type": "code",
   "execution_count": 3,
   "metadata": {},
   "outputs": [],
   "source": [
    "correctness_only_data = dp.correctness_only(verbose=False).get_data()\n",
    "by_exercise_bucket_data = dp.bucketed_delay_by_exercise([3, 24, None], [3], False, verbose=False).get_data()\n",
    "aggregate_bucket_data = dp.bucketed_delay_aggregate([3, 24, None], [3], False, verbose=False).get_data()\n",
    "\n",
    "datasets = [correctness_only_data, by_exercise_bucket_data, aggregate_bucket_data]\n",
    "names = [\"correctness_only_data\", \"by_exercise_bucket_data\", \"aggregate_bucket_data\"]"
   ]
  },
  {
   "cell_type": "code",
   "execution_count": 4,
   "metadata": {
    "scrolled": false
   },
   "outputs": [
    {
     "name": "stdout",
     "output_type": "stream",
     "text": [
      "correctness_only_data\n",
      "Fold 1\n",
      "Accuracy: 0.76093, Baseline: 0.57417, AUC: 0.75836, MAE: 0.34303\n",
      "Fold 2\n",
      "Accuracy: 0.75852, Baseline: 0.57637, AUC: 0.77281, MAE: 0.33654\n",
      "Fold 3\n",
      "Accuracy: 0.77192, Baseline: 0.57791, AUC: 0.78637, MAE: 0.32624\n",
      "Fold 4\n",
      "Accuracy: 0.76358, Baseline: 0.58072, AUC: 0.76242, MAE: 0.33388\n",
      "Fold 5\n",
      "Accuracy: 0.77582, Baseline: 0.55916, AUC: 0.78394, MAE: 0.33391\n",
      "Fold 6\n",
      "Accuracy: 0.75562, Baseline: 0.56858, AUC: 0.75633, MAE: 0.33841\n",
      "Fold 7\n",
      "Accuracy: 0.76531, Baseline: 0.56300, AUC: 0.77325, MAE: 0.33378\n",
      "Fold 8\n",
      "Accuracy: 0.75653, Baseline: 0.56220, AUC: 0.75976, MAE: 0.34079\n",
      "Fold 9\n",
      "Accuracy: 0.76182, Baseline: 0.55819, AUC: 0.77556, MAE: 0.33463\n",
      "Fold 10\n",
      "Accuracy: 0.76422, Baseline: 0.55895, AUC: 0.78055, MAE: 0.33587\n",
      "Fold 11\n",
      "Accuracy: 0.76171, Baseline: 0.56213, AUC: 0.76662, MAE: 0.33619\n",
      "Fold 12\n",
      "Accuracy: 0.76279, Baseline: 0.58526, AUC: 0.76611, MAE: 0.33334\n",
      "Fold 13\n",
      "Accuracy: 0.77482, Baseline: 0.57605, AUC: 0.78369, MAE: 0.33193\n",
      "Fold 14\n",
      "Accuracy: 0.76558, Baseline: 0.56858, AUC: 0.76289, MAE: 0.33068\n",
      "Fold 15\n",
      "Accuracy: 0.77162, Baseline: 0.55594, AUC: 0.78314, MAE: 0.33813\n",
      "Average Accuracy: 0.76471916, Average AUC 0.77145291, Average Mean Absolute Error 0.33515539\n",
      "by_exercise_bucket_data\n",
      "Fold 1\n",
      "Accuracy: 0.76025, Baseline: 0.57417, AUC: 0.76411, MAE: 0.34056\n",
      "Fold 2\n",
      "Accuracy: 0.75912, Baseline: 0.57637, AUC: 0.77316, MAE: 0.33498\n",
      "Fold 3\n",
      "Accuracy: 0.77107, Baseline: 0.57791, AUC: 0.77929, MAE: 0.32448\n",
      "Fold 4\n",
      "Accuracy: 0.76236, Baseline: 0.58072, AUC: 0.76838, MAE: 0.33330\n",
      "Fold 5\n",
      "Accuracy: 0.77671, Baseline: 0.55916, AUC: 0.77813, MAE: 0.33317\n",
      "Fold 6\n",
      "Accuracy: 0.75496, Baseline: 0.56858, AUC: 0.74481, MAE: 0.33784\n",
      "Fold 7\n",
      "Accuracy: 0.76541, Baseline: 0.56300, AUC: 0.76638, MAE: 0.32922\n",
      "Fold 8\n",
      "Accuracy: 0.75734, Baseline: 0.56220, AUC: 0.75166, MAE: 0.33994\n",
      "Fold 9\n",
      "Accuracy: 0.76267, Baseline: 0.55819, AUC: 0.77272, MAE: 0.33439\n",
      "Fold 10\n",
      "Accuracy: 0.76669, Baseline: 0.55895, AUC: 0.77525, MAE: 0.33601\n",
      "Fold 11\n",
      "Accuracy: 0.76107, Baseline: 0.56213, AUC: 0.74442, MAE: 0.33525\n",
      "Fold 12\n",
      "Accuracy: 0.76141, Baseline: 0.58526, AUC: 0.74210, MAE: 0.33295\n",
      "Fold 13\n",
      "Accuracy: 0.77141, Baseline: 0.57605, AUC: 0.77540, MAE: 0.33019\n",
      "Fold 14\n",
      "Accuracy: 0.76444, Baseline: 0.56858, AUC: 0.76663, MAE: 0.33281\n",
      "Fold 15\n",
      "Accuracy: 0.77102, Baseline: 0.55594, AUC: 0.78213, MAE: 0.33490\n",
      "Average Accuracy: 0.76439506, Average AUC 0.76563814, Average Mean Absolute Error 0.33399825\n",
      "aggregate_bucket_data\n",
      "Fold 1\n",
      "Accuracy: 0.76122, Baseline: 0.57417, AUC: 0.76910, MAE: 0.34069\n",
      "Fold 2\n",
      "Accuracy: 0.75953, Baseline: 0.57637, AUC: 0.76191, MAE: 0.33182\n",
      "Fold 3\n",
      "Accuracy: 0.77126, Baseline: 0.57791, AUC: 0.78289, MAE: 0.32272\n",
      "Fold 4\n",
      "Accuracy: 0.76348, Baseline: 0.58072, AUC: 0.76930, MAE: 0.33236\n",
      "Fold 5\n",
      "Accuracy: 0.77661, Baseline: 0.55916, AUC: 0.78026, MAE: 0.33428\n",
      "Fold 6\n",
      "Accuracy: 0.75666, Baseline: 0.56858, AUC: 0.76252, MAE: 0.33870\n",
      "Fold 7\n",
      "Accuracy: 0.76510, Baseline: 0.56300, AUC: 0.77653, MAE: 0.33150\n",
      "Fold 8\n",
      "Accuracy: 0.75643, Baseline: 0.56220, AUC: 0.75838, MAE: 0.33856\n",
      "Fold 9\n",
      "Accuracy: 0.76286, Baseline: 0.55819, AUC: 0.77471, MAE: 0.32987\n",
      "Fold 10\n",
      "Accuracy: 0.76698, Baseline: 0.55895, AUC: 0.77942, MAE: 0.33491\n",
      "Fold 11\n",
      "Accuracy: 0.76213, Baseline: 0.56213, AUC: 0.76769, MAE: 0.33428\n",
      "Fold 12\n",
      "Accuracy: 0.76250, Baseline: 0.58526, AUC: 0.76159, MAE: 0.33403\n",
      "Fold 13\n",
      "Accuracy: 0.77326, Baseline: 0.57605, AUC: 0.77610, MAE: 0.33017\n",
      "Fold 14\n",
      "Accuracy: 0.76463, Baseline: 0.56858, AUC: 0.77427, MAE: 0.32985\n",
      "Fold 15\n",
      "Accuracy: 0.77021, Baseline: 0.55594, AUC: 0.78214, MAE: 0.33684\n",
      "Average Accuracy: 0.76485869, Average AUC 0.77178713, Average Mean Absolute Error 0.33337314\n"
     ]
    }
   ],
   "source": [
    "for data, name in zip(datasets, names):\n",
    "    print(name)\n",
    "    reset_sess()\n",
    "    lstm = LSTM(hidden_dim=200,\n",
    "                output_dim=data.targets.shape[2],\n",
    "                input_dim=data.inputs.shape[2],\n",
    "                learning_rate=1e-2,\n",
    "                batch_size=64,\n",
    "                num_layers=1)\n",
    "\n",
    "    lstm.build_model(tf.sigmoid)\n",
    "\n",
    "    k = 15\n",
    "    avg_acc = 0.0\n",
    "    avg_auc = 0.0\n",
    "    avg_mae = 0.0\n",
    "    for fold in data.k_fold(k):\n",
    "        print(\"Fold %d\" % fold)\n",
    "        tf.global_variables_initializer().run()\n",
    "        lstm.train(sess, data, epochs=3)\n",
    "        acc, baseline, auc, mae = lstm.test(sess, data)\n",
    "        avg_acc += acc / k\n",
    "        avg_auc += auc / k\n",
    "        avg_mae += mae / k\n",
    "    \n",
    "    print(\"Average Accuracy: %.8f, Average AUC %.8f, Average Mean Absolute Error %.8f\" % (avg_acc, avg_auc, avg_mae))"
   ]
  },
  {
   "cell_type": "markdown",
   "metadata": {},
   "source": [
    "## Set of Exercises"
   ]
  },
  {
   "cell_type": "code",
   "execution_count": 5,
   "metadata": {},
   "outputs": [],
   "source": [
    "dpset = DataProcessor('vivek', ['exponents_1', 'exponent_rules', 'positive_and_zero_exponents',\n",
    "                                'properties-of-integer-exponents', 'square_roots_2',\n",
    "                                'equations-w-square-and-cube-roots', 'scientific_notation',\n",
    "                                'computing-in-scientific-notation'], max_seq_length=200, min_seq_length=5)"
   ]
  },
  {
   "cell_type": "code",
   "execution_count": 6,
   "metadata": {},
   "outputs": [],
   "source": [
    "correctness_only_dataset = dpset.correctness_only(verbose=False).get_data()\n",
    "by_exercise_bucket_dataset = dpset.bucketed_delay_by_exercise([3, 24, None], [3], False, verbose=False).get_data()\n",
    "aggregate_bucket_dataset = dpset.bucketed_delay_aggregate([3, 24, None], [3], False, verbose=False).get_data()\n",
    "\n",
    "datasets2 = [correctness_only_dataset, by_exercise_bucket_dataset, aggregate_bucket_dataset]\n",
    "names2 = [\"correctness_only_dataset\", \"by_exercise_bucket_dataset\", \"aggregate_bucket_dataset\"]"
   ]
  },
  {
   "cell_type": "code",
   "execution_count": 7,
   "metadata": {
    "scrolled": false
   },
   "outputs": [
    {
     "name": "stdout",
     "output_type": "stream",
     "text": [
      "correctness_only_dataset\n",
      "Fold 1\n",
      "Accuracy: 0.78245, Baseline: 0.57233, AUC: 0.69419, MAE: 0.31473\n",
      "Fold 2\n",
      "Accuracy: 0.78136, Baseline: 0.56992, AUC: 0.72698, MAE: 0.31153\n",
      "Fold 3\n",
      "Accuracy: 0.78298, Baseline: 0.55741, AUC: 0.72605, MAE: 0.31529\n",
      "Fold 4\n",
      "Accuracy: 0.77683, Baseline: 0.57242, AUC: 0.70708, MAE: 0.31386\n",
      "Fold 5\n",
      "Accuracy: 0.78885, Baseline: 0.57556, AUC: 0.72499, MAE: 0.30894\n",
      "Fold 6\n",
      "Accuracy: 0.78542, Baseline: 0.56443, AUC: 0.71268, MAE: 0.30986\n",
      "Fold 7\n",
      "Accuracy: 0.78150, Baseline: 0.54830, AUC: 0.74004, MAE: 0.30959\n",
      "Fold 8\n",
      "Accuracy: 0.78709, Baseline: 0.56593, AUC: 0.71163, MAE: 0.30982\n",
      "Fold 9\n",
      "Accuracy: 0.78221, Baseline: 0.56627, AUC: 0.73574, MAE: 0.31262\n",
      "Fold 10\n",
      "Accuracy: 0.78188, Baseline: 0.56337, AUC: 0.73386, MAE: 0.31541\n",
      "Fold 11\n",
      "Accuracy: 0.78336, Baseline: 0.55683, AUC: 0.73884, MAE: 0.31113\n",
      "Fold 12\n",
      "Accuracy: 0.77961, Baseline: 0.56348, AUC: 0.71624, MAE: 0.31256\n",
      "Fold 13\n",
      "Accuracy: 0.78714, Baseline: 0.55922, AUC: 0.73611, MAE: 0.30679\n",
      "Fold 14\n",
      "Accuracy: 0.78919, Baseline: 0.56016, AUC: 0.71763, MAE: 0.30951\n",
      "Fold 15\n",
      "Accuracy: 0.78765, Baseline: 0.56875, AUC: 0.73092, MAE: 0.30757\n",
      "Average Accuracy: 0.78383401, Average AUC 0.72353192, Average Mean Absolute Error 0.31128019\n",
      "by_exercise_bucket_dataset\n",
      "Fold 1\n",
      "Accuracy: 0.78204, Baseline: 0.57233, AUC: 0.72447, MAE: 0.31343\n",
      "Fold 2\n",
      "Accuracy: 0.77955, Baseline: 0.56992, AUC: 0.73438, MAE: 0.31382\n",
      "Fold 3\n",
      "Accuracy: 0.78059, Baseline: 0.55741, AUC: 0.74069, MAE: 0.31762\n",
      "Fold 4\n",
      "Accuracy: 0.77588, Baseline: 0.57242, AUC: 0.71960, MAE: 0.31365\n",
      "Fold 5\n",
      "Accuracy: 0.78881, Baseline: 0.57556, AUC: 0.73405, MAE: 0.30609\n",
      "Fold 6\n",
      "Accuracy: 0.78328, Baseline: 0.56443, AUC: 0.72007, MAE: 0.31093\n",
      "Fold 7\n",
      "Accuracy: 0.78012, Baseline: 0.54830, AUC: 0.75334, MAE: 0.30833\n",
      "Fold 8\n",
      "Accuracy: 0.78579, Baseline: 0.56593, AUC: 0.73242, MAE: 0.31124\n",
      "Fold 9\n",
      "Accuracy: 0.77984, Baseline: 0.56627, AUC: 0.75408, MAE: 0.31001\n",
      "Fold 10\n",
      "Accuracy: 0.78149, Baseline: 0.56337, AUC: 0.74004, MAE: 0.31271\n",
      "Fold 11\n",
      "Accuracy: 0.78239, Baseline: 0.55683, AUC: 0.74585, MAE: 0.31256\n",
      "Fold 12\n",
      "Accuracy: 0.77718, Baseline: 0.56348, AUC: 0.73217, MAE: 0.31331\n",
      "Fold 13\n",
      "Accuracy: 0.78480, Baseline: 0.55922, AUC: 0.75147, MAE: 0.30791\n",
      "Fold 14\n",
      "Accuracy: 0.78837, Baseline: 0.56016, AUC: 0.72926, MAE: 0.31008\n",
      "Fold 15\n",
      "Accuracy: 0.78495, Baseline: 0.56875, AUC: 0.74194, MAE: 0.30825\n",
      "Average Accuracy: 0.78233832, Average AUC 0.73692234, Average Mean Absolute Error 0.31132916\n",
      "aggregate_bucket_dataset\n",
      "Fold 1\n",
      "Accuracy: 0.78234, Baseline: 0.57233, AUC: 0.73766, MAE: 0.31355\n",
      "Fold 2\n",
      "Accuracy: 0.78036, Baseline: 0.56992, AUC: 0.74924, MAE: 0.31021\n",
      "Fold 3\n",
      "Accuracy: 0.78120, Baseline: 0.55741, AUC: 0.74195, MAE: 0.31867\n",
      "Fold 4\n",
      "Accuracy: 0.77567, Baseline: 0.57242, AUC: 0.73659, MAE: 0.31465\n",
      "Fold 5\n",
      "Accuracy: 0.78806, Baseline: 0.57556, AUC: 0.74667, MAE: 0.30893\n",
      "Fold 6\n",
      "Accuracy: 0.78615, Baseline: 0.56443, AUC: 0.74016, MAE: 0.31032\n",
      "Fold 7\n",
      "Accuracy: 0.78127, Baseline: 0.54830, AUC: 0.76195, MAE: 0.30988\n",
      "Fold 8\n",
      "Accuracy: 0.78548, Baseline: 0.56593, AUC: 0.73968, MAE: 0.30879\n",
      "Fold 9\n",
      "Accuracy: 0.78121, Baseline: 0.56627, AUC: 0.75824, MAE: 0.31059\n",
      "Fold 10\n",
      "Accuracy: 0.78265, Baseline: 0.56337, AUC: 0.75088, MAE: 0.31202\n",
      "Fold 11\n",
      "Accuracy: 0.78311, Baseline: 0.55683, AUC: 0.75867, MAE: 0.31184\n",
      "Fold 12\n",
      "Accuracy: 0.77758, Baseline: 0.56348, AUC: 0.74941, MAE: 0.31538\n",
      "Fold 13\n",
      "Accuracy: 0.78650, Baseline: 0.55922, AUC: 0.75404, MAE: 0.30507\n",
      "Fold 14\n",
      "Accuracy: 0.78826, Baseline: 0.56016, AUC: 0.74520, MAE: 0.31159\n",
      "Fold 15\n",
      "Accuracy: 0.78750, Baseline: 0.56875, AUC: 0.75279, MAE: 0.30754\n",
      "Average Accuracy: 0.78315456, Average AUC 0.74820761, Average Mean Absolute Error 0.31126871\n"
     ]
    }
   ],
   "source": [
    "for data, name in zip(datasets2, names2):\n",
    "    print(name)\n",
    "    reset_sess()\n",
    "    lstm = LSTM(hidden_dim=200,\n",
    "                output_dim=data.targets.shape[2],\n",
    "                input_dim=data.inputs.shape[2],\n",
    "                learning_rate=1e-2,\n",
    "                batch_size=64,\n",
    "                num_layers=1)\n",
    "\n",
    "    lstm.build_model(tf.sigmoid)\n",
    "\n",
    "    k = 15\n",
    "    avg_acc = 0.0\n",
    "    avg_auc = 0.0\n",
    "    avg_mae = 0.0\n",
    "    for fold in data.k_fold(k):\n",
    "        print(\"Fold %d\" % fold)\n",
    "        tf.global_variables_initializer().run()\n",
    "        lstm.train(sess, data, epochs=3)\n",
    "        acc, baseline, auc, mae = lstm.test(sess, data)\n",
    "        avg_acc += acc / k\n",
    "        avg_auc += auc / k\n",
    "        avg_mae += mae / k\n",
    "    \n",
    "    print(\"Average Accuracy: %.8f, Average AUC %.8f, Average Mean Absolute Error %.8f\" % (avg_acc, avg_auc, avg_mae))"
   ]
  },
  {
   "cell_type": "markdown",
   "metadata": {},
   "source": [
    "## Paired T-tests"
   ]
  },
  {
   "cell_type": "code",
   "execution_count": 8,
   "metadata": {},
   "outputs": [],
   "source": [
    "import scipy.stats as stats"
   ]
  },
  {
   "cell_type": "markdown",
   "metadata": {},
   "source": [
    "### Exponents 1"
   ]
  },
  {
   "cell_type": "code",
   "execution_count": 9,
   "metadata": {},
   "outputs": [],
   "source": [
    "exponents_correctness_only = {\n",
    "    \"accuracy\": [0.76093, 0.75852, 0.77192, 0.76358, 0.77582, 0.75562, 0.76531, 0.75653, 0.76182,\n",
    "                 0.76422, 0.76171, 0.76279, 0.77482, 0.76558, 0.77162],\n",
    "    \"baseline\": [0.57417, 0.57637, 0.57791, 0.58072, 0.55916, 0.56858, 0.56300, 0.56220, 0.55819,\n",
    "                 0.55895, 0.56213, 0.58526, 0.57605, 0.56858, 0.55594],\n",
    "    \"AUC\": [0.75836, 0.77281, 0.78637, 0.76242, 0.78394, 0.75633, 0.77325, 0.75976, 0.77556, 0.78055,\n",
    "            0.76662, 0.76611, 0.78369, 0.76289, 0.78314],\n",
    "    \"MAE\": [0.34303, 0.33654, 0.32624, 0.33388, 0.33391, 0.33841, 0.33378, 0.34079, 0.33463, 0.33587,\n",
    "            0.33619, 0.33334, 0.33193, 0.33068, 0.33813]\n",
    "}\n",
    "                \n",
    "exponents_by_exercise_buckets = {\n",
    "    \"accuracy\": [0.76025, 0.75912, 0.77107, 0.76236, 0.77671, 0.75496, 0.76541, 0.75734, 0.76267,\n",
    "                 0.76669, 0.76107, 0.76141, 0.77141, 0.76444, 0.77102],\n",
    "    \"baseline\": [0.57417, 0.57637, 0.57791, 0.58072, 0.55916, 0.56858, 0.56300, 0.56220, 0.55819,\n",
    "                 0.55895, 0.56213, 0.58526, 0.57605, 0.56858, 0.55594],\n",
    "    \"AUC\": [0.76411, 0.77316, 0.77929, 0.76838, 0.77813, 0.74481, 0.76638, 0.75166, 0.77272, 0.77525,\n",
    "            0.74442, 0.74210, 0.77540, 0.76663, 0.78213],\n",
    "    \"MAE\": [0.34056, 0.33498, 0.32448, 0.33330, 0.33317, 0.33784, 0.32922, 0.33994, 0.33439, 0.33601,\n",
    "            0.33525, 0.33295, 0.33019, 0.33281, 0.33490]\n",
    "\n",
    "}\n",
    "\n",
    "exponents_aggregate_buckets = {\n",
    "    \"accuracy\": [0.76122, 0.75953, 0.77126, 0.76348, 0.77661, 0.75666, 0.76510, 0.75643, 0.76286,\n",
    "                 0.76698, 0.76213, 0.76250, 0.77326, 0.76463, 0.77021],\n",
    "    \"baseline\": [0.57417, 0.57637, 0.57791, 0.58072, 0.55916, 0.56858, 0.56300, 0.56220, 0.55819,\n",
    "                 0.55895, 0.56213, 0.58526, 0.57605, 0.56858, 0.55594],\n",
    "    \"AUC\": [0.76910, 0.76191, 0.78289, 0.76930, 0.78026, 0.76252, 0.77653, 0.75838, 0.77471, 0.77942,\n",
    "            0.76769, 0.76159, 0.77610, 0.77427, 0.78214],\n",
    "    \"MAE\": [0.34069, 0.33182, 0.32272, 0.33236, 0.33428, 0.33870, 0.33150, 0.33856, 0.32987, 0.33491,\n",
    "            0.33428, 0.33403, 0.33017, 0.32985, 0.33684]\n",
    "\n",
    "}"
   ]
  },
  {
   "cell_type": "code",
   "execution_count": 10,
   "metadata": {},
   "outputs": [
    {
     "name": "stdout",
     "output_type": "stream",
     "text": [
      "Correctness vs. By Exercise Buckets\n",
      "  Accuracy: t-statistic 0.924770, p-value 0.370752\n",
      "  AUC: t-statistic 2.564271, p-value 0.022486\n",
      "  MAE: t-statistic 2.903022, p-value 0.011573\n"
     ]
    }
   ],
   "source": [
    "print(\"Correctness vs. By Exercise Buckets\")\n",
    "acc_result = stats.ttest_rel(exponents_correctness_only[\"accuracy\"], exponents_by_exercise_buckets[\"accuracy\"])\n",
    "auc_result = stats.ttest_rel(exponents_correctness_only[\"AUC\"], exponents_by_exercise_buckets[\"AUC\"])\n",
    "mae_result = stats.ttest_rel(exponents_correctness_only[\"MAE\"], exponents_by_exercise_buckets[\"MAE\"])\n",
    "print(\"  Accuracy: t-statistic %.6f, p-value %.6f\" % acc_result)\n",
    "print(\"  AUC: t-statistic %.6f, p-value %.6f\" % auc_result)\n",
    "print(\"  MAE: t-statistic %.6f, p-value %.6f\" % mae_result)"
   ]
  },
  {
   "cell_type": "code",
   "execution_count": 11,
   "metadata": {},
   "outputs": [
    {
     "name": "stdout",
     "output_type": "stream",
     "text": [
      "Correctness vs. Aggregate Buckets\n",
      "  Accuracy: t-statistic -0.480692, p-value 0.638160\n",
      "  AUC: t-statistic -0.203062, p-value 0.842008\n",
      "  MAE: t-statistic 4.183018, p-value 0.000920\n"
     ]
    }
   ],
   "source": [
    "print(\"Correctness vs. Aggregate Buckets\")\n",
    "acc_result = stats.ttest_rel(exponents_correctness_only[\"accuracy\"], exponents_aggregate_buckets[\"accuracy\"])\n",
    "auc_result = stats.ttest_rel(exponents_correctness_only[\"AUC\"], exponents_aggregate_buckets[\"AUC\"])\n",
    "mae_result = stats.ttest_rel(exponents_correctness_only[\"MAE\"], exponents_aggregate_buckets[\"MAE\"])\n",
    "print(\"  Accuracy: t-statistic %.6f, p-value %.6f\" % acc_result)\n",
    "print(\"  AUC: t-statistic %.6f, p-value %.6f\" % auc_result)\n",
    "print(\"  MAE: t-statistic %.6f, p-value %.6f\" % mae_result)"
   ]
  },
  {
   "cell_type": "markdown",
   "metadata": {},
   "source": [
    "### Set of Exercises"
   ]
  },
  {
   "cell_type": "code",
   "execution_count": 12,
   "metadata": {},
   "outputs": [],
   "source": [
    "set_correctness_only = {\n",
    "    \"accuracy\": [0.78245, 0.78136, 0.78298, 0.77683, 0.78885, 0.78542, 0.78150, 0.78709, 0.78221,\n",
    "                 0.78188, 0.78336, 0.77961, 0.78714, 0.78919, 0.78765],\n",
    "    \"baseline\": [0.57233, 0.56992, 0.55741, 0.57242, 0.57556, 0.56443, 0.54830, 0.56593, 0.56627,\n",
    "                 0.56337, 0.55683, 0.56348, 0.55922, 0.56016, 0.56875],\n",
    "    \"AUC\": [0.69419, 0.72698, 0.72605, 0.70708, 0.72499, 0.71268, 0.74004, 0.71163, 0.73574, 0.73386,\n",
    "            0.73884, 0.71624, 0.73611, 0.71763, 0.73092],\n",
    "    \"MAE\": [0.31473, 0.31153, 0.31529, 0.31386, 0.30894, 0.30986, 0.30959, 0.30982, 0.31262, 0.31541,\n",
    "            0.31113, 0.31256, 0.30679, 0.30951, 0.30757]\n",
    "}\n",
    "                \n",
    "set_by_exercise_buckets = {\n",
    "    \"accuracy\": [0.78204, 0.77955, 0.78059, 0.77588, 0.78881, 0.78328, 0.78012, 0.78579, 0.77984,\n",
    "                 0.78149, 0.78239, 0.77718, 0.78480, 0.78837, 0.78495],\n",
    "    \"baseline\": [0.57233, 0.56992, 0.55741, 0.57242, 0.57556, 0.56443, 0.54830, 0.56593, 0.56627,\n",
    "                 0.56337, 0.55683, 0.56348, 0.55922, 0.56016, 0.56875],\n",
    "    \"AUC\": [0.72447, 0.73438, 0.74069, 0.71960, 0.73405, 0.72007, 0.75334, 0.73242, 0.75408, 0.74004,\n",
    "            0.74585, 0.73217, 0.75147, 0.72926, 0.74194],\n",
    "    \"MAE\": [0.31343, 0.31382, 0.31762, 0.31365, 0.30609, 0.31093, 0.30833, 0.31124, 0.31001, 0.31271,\n",
    "            0.31256, 0.31331, 0.30791, 0.31008, 0.30825]\n",
    "\n",
    "}\n",
    "\n",
    "set_aggregate_buckets = {\n",
    "    \"accuracy\": [0.78234, 0.78036, 0.78120, 0.77567, 0.78806, 0.78615, 0.78127, 0.78548, 0.78121,\n",
    "                 0.78265, 0.78311, 0.77758, 0.78650, 0.78826, 0.78750],\n",
    "    \"baseline\": [0.57233, 0.56992, 0.55741, 0.57242, 0.57556, 0.56443, 0.54830, 0.56593, 0.56627,\n",
    "                 0.56337, 0.55683, 0.56348, 0.55922, 0.56016, 0.56875],\n",
    "    \"AUC\": [0.73766, 0.74924, 0.74195, 0.73659, 0.74667, 0.74016, 0.76195, 0.73968, 0.75824, 0.75088,\n",
    "            0.75867, 0.74941, 0.75404, 0.74520, 0.75279],\n",
    "    \"MAE\": [0.31355, 0.31021, 0.31867, 0.31465, 0.30893, 0.31032, 0.30988, 0.30879, 0.31059, 0.31202,\n",
    "            0.31184, 0.31538, 0.30507, 0.31159, 0.30754]\n",
    "\n",
    "}\n"
   ]
  },
  {
   "cell_type": "code",
   "execution_count": 13,
   "metadata": {},
   "outputs": [
    {
     "name": "stdout",
     "output_type": "stream",
     "text": [
      "Correctness vs. By Exercise Buckets\n",
      "  Accuracy: t-statistic 6.622248, p-value 0.000011\n",
      "  AUC: t-statistic -8.132941, p-value 0.000001\n",
      "  MAE: t-statistic -0.106327, p-value 0.916831\n"
     ]
    }
   ],
   "source": [
    "print(\"Correctness vs. By Exercise Buckets\")\n",
    "acc_result = stats.ttest_rel(set_correctness_only[\"accuracy\"], set_by_exercise_buckets[\"accuracy\"])\n",
    "auc_result = stats.ttest_rel(set_correctness_only[\"AUC\"], set_by_exercise_buckets[\"AUC\"])\n",
    "mae_result = stats.ttest_rel(set_correctness_only[\"MAE\"], set_by_exercise_buckets[\"MAE\"])\n",
    "print(\"  Accuracy: t-statistic %.6f, p-value %.6f\" % acc_result)\n",
    "print(\"  AUC: t-statistic %.6f, p-value %.6f\" % auc_result)\n",
    "print(\"  MAE: t-statistic %.6f, p-value %.6f\" % mae_result)"
   ]
  },
  {
   "cell_type": "code",
   "execution_count": 14,
   "metadata": {},
   "outputs": [
    {
     "name": "stdout",
     "output_type": "stream",
     "text": [
      "Correctness vs. Aggregate Buckets\n",
      "  Accuracy: t-statistic 3.192083, p-value 0.006522\n",
      "  AUC: t-statistic -13.363643, p-value 0.000000\n",
      "  MAE: t-statistic 0.025128, p-value 0.980308\n"
     ]
    }
   ],
   "source": [
    "print(\"Correctness vs. Aggregate Buckets\")\n",
    "acc_result = stats.ttest_rel(set_correctness_only[\"accuracy\"], set_aggregate_buckets[\"accuracy\"])\n",
    "auc_result = stats.ttest_rel(set_correctness_only[\"AUC\"], set_aggregate_buckets[\"AUC\"])\n",
    "mae_result = stats.ttest_rel(set_correctness_only[\"MAE\"], set_aggregate_buckets[\"MAE\"])\n",
    "print(\"  Accuracy: t-statistic %.6f, p-value %.6f\" % acc_result)\n",
    "print(\"  AUC: t-statistic %.6f, p-value %.6f\" % auc_result)\n",
    "print(\"  MAE: t-statistic %.6f, p-value %.6f\" % mae_result)"
   ]
  },
  {
   "cell_type": "code",
   "execution_count": null,
   "metadata": {},
   "outputs": [],
   "source": []
  }
 ],
 "metadata": {
  "kernelspec": {
   "display_name": "Python 3",
   "language": "python",
   "name": "python3"
  },
  "language_info": {
   "codemirror_mode": {
    "name": "ipython",
    "version": 3
   },
   "file_extension": ".py",
   "mimetype": "text/x-python",
   "name": "python",
   "nbconvert_exporter": "python",
   "pygments_lexer": "ipython3",
   "version": "3.4.3"
  }
 },
 "nbformat": 4,
 "nbformat_minor": 2
}
