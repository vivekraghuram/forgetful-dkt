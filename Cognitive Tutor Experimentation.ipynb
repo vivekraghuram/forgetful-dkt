{
 "cells": [
  {
   "cell_type": "code",
   "execution_count": 1,
   "metadata": {},
   "outputs": [],
   "source": [
    "import numpy as np\n",
    "import pandas as pd\n",
    "import tensorflow as tf\n",
    "from importlib import reload\n",
    "from data import InMemoryExerciseData\n",
    "from lstm import LSTM\n",
    "from encoder import Encoder\n",
    "\n",
    "def initialize_sess():\n",
    "    global sess\n",
    "    ruv = set(sess.run(tf.report_uninitialized_variables()))\n",
    "    uv = [v for v in tf.global_variables() if v.name.split(':')[0].encode('ascii') in ruv]\n",
    "    tf.variables_initializer(uv).run()\n",
    "    \n",
    "def reset_sess():\n",
    "    global sess\n",
    "    tf.reset_default_graph()\n",
    "    sess.close()\n",
    "    sess = tf.InteractiveSession()    \n",
    "\n",
    "sess = tf.InteractiveSession()\n",
    "\n",
    "min_seq_length = 5\n",
    "max_seq_length = 3000\n",
    "min_correct = 2\n",
    "min_responses_for_skill = 16800\n"
   ]
  },
  {
   "cell_type": "code",
   "execution_count": 2,
   "metadata": {},
   "outputs": [],
   "source": [
    "df = pd.read_csv('data/bridge_to_algebra_2006_2007_train.txt', sep='\\t', lineterminator='\\r',\n",
    "                 usecols=['Anon Student Id', 'KC(SubSkills)', 'Correct First Attempt', 'Corrects',\n",
    "                          'Incorrects', 'Step Start Time','Problem Name', 'Step Name'])\n"
   ]
  },
  {
   "cell_type": "code",
   "execution_count": 3,
   "metadata": {},
   "outputs": [],
   "source": [
    "# DATETIME IS STORED IN NANOSECONDS\n",
    "df['date'] = pd.to_datetime(df['Step Start Time']).astype(np.int64) // 10 ** 9\n",
    "df.drop(['Step Start Time'], axis=1, inplace=True)"
   ]
  },
  {
   "cell_type": "code",
   "execution_count": 4,
   "metadata": {},
   "outputs": [],
   "source": [
    "df['_count'] = 1\n",
    "grouped_df = df.groupby('KC(SubSkills)').sum()"
   ]
  },
  {
   "cell_type": "code",
   "execution_count": 5,
   "metadata": {},
   "outputs": [
    {
     "name": "stdout",
     "output_type": "stream",
     "text": [
      "Num KCs: 12\n"
     ]
    }
   ],
   "source": [
    "for idx, x in enumerate(grouped_df['_count'].sort_values(ascending=False)):\n",
    "    if x < min_responses_for_skill:\n",
    "        break\n",
    "chosen_skill_names = grouped_df['_count'].sort_values(ascending=False)[0:idx].index\n",
    "print(\"Num KCs: %d\" % (len(chosen_skill_names)))\n",
    "df = df[df['KC(SubSkills)'].isin(chosen_skill_names)]"
   ]
  },
  {
   "cell_type": "code",
   "execution_count": 6,
   "metadata": {},
   "outputs": [
    {
     "name": "stdout",
     "output_type": "stream",
     "text": [
      "Num Students: 1100\n"
     ]
    }
   ],
   "source": [
    "grouped_df = df.groupby('Anon Student Id').sum()\n",
    "filtered_uids = grouped_df[(grouped_df['_count'] >= min_seq_length) &\n",
    "                           (grouped_df['_count'] <= max_seq_length) &\n",
    "                           (grouped_df['Corrects'] >= min_correct)].reset_index()['Anon Student Id']\n",
    "print(\"Num Students: %d\" % (len(filtered_uids)))\n",
    "df = df[df['Anon Student Id'].isin(filtered_uids)]"
   ]
  },
  {
   "cell_type": "code",
   "execution_count": 7,
   "metadata": {},
   "outputs": [],
   "source": [
    "def new_day(df, new_day_threshold=5, verbose=True):\n",
    "    \"\"\"\n",
    "    Processes data to include correctness of the previous question and whether it has been a day since the\n",
    "    the last response to any skill.\n",
    "    Ex. For exercises A and B:\n",
    "        [0, 0, 1, 1, 0, 1]\n",
    "        Means that the current response is for exercise B, is incorrect and it has been a day since the \n",
    "        previous response to an exercise.\n",
    "    \"\"\"\n",
    "    num_students = df['Anon Student Id'].nunique()\n",
    "    num_skills = df['KC(SubSkills)'].nunique()\n",
    "    new_day_threshold = 5 * 60 * 60 # Convert to seconds\n",
    "\n",
    "    corrects = np.zeros((num_students, max_seq_length, num_skills))\n",
    "    mask = np.zeros((num_students, max_seq_length, num_skills))\n",
    "    sequences = np.zeros((num_students, max_seq_length, 3 * num_skills))\n",
    "\n",
    "    exercise_index_map = {}\n",
    "    for idx, exercise in enumerate(df['KC(SubSkills)'].unique()):\n",
    "        exercise_index_map[exercise] = idx * 3\n",
    "\n",
    "    for row_idx, uid in enumerate(df['Anon Student Id'].unique()):\n",
    "        uid_df = df[df['Anon Student Id'] == uid]\n",
    "        col_idx = 0\n",
    "        prev_date = 0.0\n",
    "\n",
    "        for _, event in uid_df.iterrows():\n",
    "            idx = exercise_index_map[event['KC(SubSkills)']]\n",
    "            sequences[row_idx, col_idx, idx] = 1\n",
    "            sequences[row_idx, col_idx, idx + 1] = event['Correct First Attempt']\n",
    "            if event['date'] - prev_date > new_day_threshold:\n",
    "                sequences[row_idx, col_idx] += np.array([0, 0, 1] * num_skills)\n",
    "                        \n",
    "            prev_date = event['date']\n",
    "            corrects[row_idx, col_idx, idx // 3] = event['Correct First Attempt']\n",
    "            mask[row_idx, col_idx, idx // 3] = 1\n",
    "            col_idx += 1\n",
    "\n",
    "        if verbose and row_idx % 100 == 0:\n",
    "            print(\"Processed %d\" % row_idx)\n",
    "\n",
    "    return InMemoryExerciseData(sequences, mask, corrects)\n",
    "\n",
    "def correctness_only(df, verbose=True):\n",
    "    \"\"\"\n",
    "    Processes data to only include correctness of the previous question as input.\n",
    "    Ex. For exercises A and B:\n",
    "        [0, 0, 1, 0]\n",
    "        Means that the current response is for exercise B and is incorrect.\n",
    "    \"\"\"\n",
    "    num_students = df['Anon Student Id'].nunique()\n",
    "    num_skills = df['KC(SubSkills)'].nunique()\n",
    "\n",
    "    corrects = np.zeros((num_students, max_seq_length, num_skills))\n",
    "    mask = np.zeros((num_students, max_seq_length, num_skills))\n",
    "    sequences = np.zeros((num_students, max_seq_length, 2 * num_skills))\n",
    "\n",
    "    exercise_index_map = {}\n",
    "    for idx, exercise in enumerate(df['KC(SubSkills)'].unique()):\n",
    "        exercise_index_map[exercise] = idx * 2\n",
    "\n",
    "    for row_idx, uid in enumerate(df['Anon Student Id'].unique()):\n",
    "        uid_df = df[df['Anon Student Id'] == uid]\n",
    "        col_idx = 0\n",
    "\n",
    "        for _, event in uid_df.iterrows():\n",
    "            idx = exercise_index_map[event['KC(SubSkills)']]\n",
    "            sequences[row_idx, col_idx, idx] = 1\n",
    "            sequences[row_idx, col_idx, idx + 1] = event['Correct First Attempt']\n",
    "\n",
    "            corrects[row_idx, col_idx, idx // 2] = event['Correct First Attempt']\n",
    "            mask[row_idx, col_idx, idx // 2] = 1\n",
    "            col_idx += 1\n",
    "\n",
    "        if verbose and row_idx % 100 == 0:\n",
    "            print(\"Processed %d\" % row_idx)\n",
    "\n",
    "    return InMemoryExerciseData(sequences, mask, corrects)\n",
    "\n",
    "def new_day_by_exercise(df, new_day_threshold=5, verbose=True):\n",
    "    \"\"\"\n",
    "    Processes data to include correctness of the previous question and whether it has been a day since the\n",
    "    the last response to this skill.\n",
    "    Ex. For exercises A and B:\n",
    "        [0, 0, 1, 1, 0, 0]\n",
    "        Means that the current response is for exercise B, is incorrect and it is not a new day for B. It\n",
    "        is a new day for A.\n",
    "    \"\"\"\n",
    "    num_students = df['Anon Student Id'].nunique()\n",
    "    num_skills = df['KC(SubSkills)'].nunique()\n",
    "    new_day_threshold = 5 * 60 * 60 # Convert to seconds\n",
    "\n",
    "    corrects = np.zeros((num_students, max_seq_length, num_skills))\n",
    "    mask = np.zeros((num_students, max_seq_length, num_skills))\n",
    "    sequences = np.zeros((num_students, max_seq_length, 3 * num_skills))\n",
    "\n",
    "    exercise_index_map = {}\n",
    "    for idx, exercise in enumerate(df['KC(SubSkills)'].unique()):\n",
    "        exercise_index_map[exercise] = idx * 3\n",
    "\n",
    "    for row_idx, uid in enumerate(df['Anon Student Id'].unique()):\n",
    "        uid_df = df[df['Anon Student Id'] == uid]\n",
    "        col_idx = 0\n",
    "        prev_dates = np.zeros((3 * num_skills))\n",
    "\n",
    "        for _, event in uid_df.iterrows():\n",
    "            idx = exercise_index_map[event['KC(SubSkills)']]\n",
    "            sequences[row_idx, col_idx, idx] = 1\n",
    "            sequences[row_idx, col_idx, idx + 1] = event['Correct First Attempt']\n",
    "            sequences[row_idx, col_idx] += ((np.ones((3 * num_skills)) * event['date'] - prev_dates) * (prev_dates != 0)) > new_day_threshold\n",
    "                        \n",
    "            prev_dates[idx + 2] = event['date']\n",
    "            corrects[row_idx, col_idx, idx // 3] = event['Correct First Attempt']\n",
    "            mask[row_idx, col_idx, idx // 3] = 1\n",
    "            col_idx += 1\n",
    "\n",
    "        if verbose and row_idx % 100 == 0:\n",
    "            print(\"Processed %d\" % row_idx)\n",
    "\n",
    "    return InMemoryExerciseData(sequences, mask, corrects)"
   ]
  },
  {
   "cell_type": "code",
   "execution_count": 8,
   "metadata": {},
   "outputs": [
    {
     "name": "stdout",
     "output_type": "stream",
     "text": [
      "Processed 0\n",
      "Processed 100\n",
      "Processed 200\n",
      "Processed 300\n",
      "Processed 400\n",
      "Processed 500\n",
      "Processed 600\n",
      "Processed 700\n",
      "Processed 800\n",
      "Processed 900\n",
      "Processed 1000\n"
     ]
    }
   ],
   "source": [
    "# correctness_only_data = correctness_only(df)\n",
    "# new_day_data = new_day(df)\n",
    "new_day_by_exercise_data = new_day_by_exercise(df)"
   ]
  },
  {
   "cell_type": "code",
   "execution_count": 9,
   "metadata": {},
   "outputs": [],
   "source": [
    "data = new_day_by_exercise_data\n",
    "orig_target_masks = np.array(data.target_masks)"
   ]
  },
  {
   "cell_type": "code",
   "execution_count": 13,
   "metadata": {},
   "outputs": [],
   "source": [
    "# Weight predicting incorrect higher\n",
    "weight = 1.5\n",
    "data.target_masks = orig_target_masks * weight - data.targets * (weight - 1)"
   ]
  },
  {
   "cell_type": "code",
   "execution_count": 11,
   "metadata": {},
   "outputs": [],
   "source": [
    "lstm = LSTM(hidden_dim=200,\n",
    "            output_dim=data.targets.shape[2],\n",
    "            input_dim=data.inputs.shape[2],\n",
    "            learning_rate=5e-3,\n",
    "            batch_size=64,\n",
    "            num_layers=1)\n",
    "\n",
    "lstm.build_model(tf.sigmoid)"
   ]
  },
  {
   "cell_type": "code",
   "execution_count": 14,
   "metadata": {},
   "outputs": [
    {
     "name": "stdout",
     "output_type": "stream",
     "text": [
      "Fold 1\n",
      "epoch 0, MSE: 0.1482\n",
      "epoch 1, MSE: 0.1476\n",
      "epoch 2, MSE: 0.1483\n",
      "epoch 3, MSE: 0.1444\n",
      "epoch 4, MSE: 0.1436\n",
      "epoch 5, MSE: 0.1420\n",
      "epoch 6, MSE: 0.1413\n",
      "epoch 7, MSE: 0.1391\n",
      "Accuracy: 0.89564, Baseline: 0.89575, AUC: 0.98384, MAE: 0.20579\n",
      "Fold 2\n",
      "epoch 0, MSE: 0.1460\n",
      "epoch 1, MSE: 0.1442\n",
      "epoch 2, MSE: 0.1429\n",
      "epoch 3, MSE: 0.1410\n",
      "epoch 4, MSE: 0.1400\n",
      "epoch 5, MSE: 0.1376\n",
      "epoch 6, MSE: 0.1361\n",
      "epoch 7, MSE: 0.1366\n",
      "Accuracy: 0.89658, Baseline: 0.89575, AUC: 0.98462, MAE: 0.21271\n",
      "Fold 3\n",
      "epoch 0, MSE: 0.1489\n",
      "epoch 1, MSE: 0.1482\n",
      "epoch 2, MSE: 0.1487\n",
      "epoch 3, MSE: 0.1460\n",
      "epoch 4, MSE: 0.1442\n",
      "epoch 5, MSE: 0.1430\n",
      "epoch 6, MSE: 0.1413\n",
      "epoch 7, MSE: 0.1399\n",
      "Accuracy: 0.89443, Baseline: 0.89575, AUC: 0.98291, MAE: 0.21892\n",
      "Fold 4\n",
      "epoch 0, MSE: 0.1458\n",
      "epoch 1, MSE: 0.1447\n",
      "epoch 2, MSE: 0.1425\n",
      "epoch 3, MSE: 0.1412\n",
      "epoch 4, MSE: 0.1404\n",
      "epoch 5, MSE: 0.1391\n",
      "epoch 6, MSE: 0.1361\n",
      "epoch 7, MSE: 0.1336\n",
      "Accuracy: 0.89508, Baseline: 0.89575, AUC: 0.98247, MAE: 0.20403\n",
      "Fold 5\n"
     ]
    },
    {
     "ename": "KeyboardInterrupt",
     "evalue": "",
     "output_type": "error",
     "traceback": [
      "\u001b[0;31m---------------------------------------------------------------------------\u001b[0m",
      "\u001b[0;31mKeyboardInterrupt\u001b[0m                         Traceback (most recent call last)",
      "\u001b[0;32m<ipython-input-14-ca7420b9a7e4>\u001b[0m in \u001b[0;36m<module>\u001b[0;34m()\u001b[0m\n\u001b[1;32m      5\u001b[0m     \u001b[0mprint\u001b[0m\u001b[0;34m(\u001b[0m\u001b[0;34m\"Fold %d\"\u001b[0m \u001b[0;34m%\u001b[0m \u001b[0mfold\u001b[0m\u001b[0;34m)\u001b[0m\u001b[0;34m\u001b[0m\u001b[0m\n\u001b[1;32m      6\u001b[0m     \u001b[0mtf\u001b[0m\u001b[0;34m.\u001b[0m\u001b[0mglobal_variables_initializer\u001b[0m\u001b[0;34m(\u001b[0m\u001b[0;34m)\u001b[0m\u001b[0;34m.\u001b[0m\u001b[0mrun\u001b[0m\u001b[0;34m(\u001b[0m\u001b[0;34m)\u001b[0m\u001b[0;34m\u001b[0m\u001b[0m\n\u001b[0;32m----> 7\u001b[0;31m     \u001b[0mlstm\u001b[0m\u001b[0;34m.\u001b[0m\u001b[0mtrain\u001b[0m\u001b[0;34m(\u001b[0m\u001b[0msess\u001b[0m\u001b[0;34m,\u001b[0m \u001b[0mdata\u001b[0m\u001b[0;34m,\u001b[0m \u001b[0mepochs\u001b[0m\u001b[0;34m=\u001b[0m\u001b[0;36m8\u001b[0m\u001b[0;34m)\u001b[0m\u001b[0;34m\u001b[0m\u001b[0m\n\u001b[0m\u001b[1;32m      8\u001b[0m     \u001b[0macc\u001b[0m\u001b[0;34m,\u001b[0m \u001b[0mbaseline\u001b[0m\u001b[0;34m,\u001b[0m \u001b[0mauc\u001b[0m\u001b[0;34m,\u001b[0m \u001b[0mmae\u001b[0m \u001b[0;34m=\u001b[0m \u001b[0mlstm\u001b[0m\u001b[0;34m.\u001b[0m\u001b[0mtest\u001b[0m\u001b[0;34m(\u001b[0m\u001b[0msess\u001b[0m\u001b[0;34m,\u001b[0m \u001b[0mdata\u001b[0m\u001b[0;34m)\u001b[0m\u001b[0;34m\u001b[0m\u001b[0m\n\u001b[1;32m      9\u001b[0m     \u001b[0mavg_acc\u001b[0m \u001b[0;34m+=\u001b[0m \u001b[0macc\u001b[0m \u001b[0;34m/\u001b[0m \u001b[0;36m5.0\u001b[0m\u001b[0;34m\u001b[0m\u001b[0m\n",
      "\u001b[0;32m~/Projects/forgetful-dkt/lstm.py\u001b[0m in \u001b[0;36mtrain\u001b[0;34m(self, sess, data, epochs, encode)\u001b[0m\n\u001b[1;32m     66\u001b[0m           \u001b[0mfeed_dict\u001b[0m\u001b[0;34m[\u001b[0m\u001b[0mself\u001b[0m\u001b[0;34m.\u001b[0m\u001b[0msy_cell_states\u001b[0m\u001b[0;34m[\u001b[0m\u001b[0mi\u001b[0m\u001b[0;34m]\u001b[0m\u001b[0;34m]\u001b[0m \u001b[0;34m=\u001b[0m \u001b[0mnp\u001b[0m\u001b[0;34m.\u001b[0m\u001b[0mzeros\u001b[0m\u001b[0;34m(\u001b[0m\u001b[0;34m(\u001b[0m\u001b[0mself\u001b[0m\u001b[0;34m.\u001b[0m\u001b[0mbatch_size\u001b[0m\u001b[0;34m,\u001b[0m \u001b[0mself\u001b[0m\u001b[0;34m.\u001b[0m\u001b[0mhidden_dim\u001b[0m\u001b[0;34m)\u001b[0m\u001b[0;34m)\u001b[0m\u001b[0;34m\u001b[0m\u001b[0m\n\u001b[1;32m     67\u001b[0m \u001b[0;34m\u001b[0m\u001b[0m\n\u001b[0;32m---> 68\u001b[0;31m         \u001b[0m_\u001b[0m\u001b[0;34m,\u001b[0m \u001b[0mc\u001b[0m \u001b[0;34m=\u001b[0m \u001b[0msess\u001b[0m\u001b[0;34m.\u001b[0m\u001b[0mrun\u001b[0m\u001b[0;34m(\u001b[0m\u001b[0;34m[\u001b[0m\u001b[0mself\u001b[0m\u001b[0;34m.\u001b[0m\u001b[0mupdate_op\u001b[0m\u001b[0;34m,\u001b[0m \u001b[0mself\u001b[0m\u001b[0;34m.\u001b[0m\u001b[0mmse\u001b[0m\u001b[0;34m]\u001b[0m\u001b[0;34m,\u001b[0m \u001b[0mfeed_dict\u001b[0m\u001b[0;34m=\u001b[0m\u001b[0mfeed_dict\u001b[0m\u001b[0;34m)\u001b[0m\u001b[0;34m\u001b[0m\u001b[0m\n\u001b[0m\u001b[1;32m     69\u001b[0m \u001b[0;34m\u001b[0m\u001b[0m\n\u001b[1;32m     70\u001b[0m       \u001b[0mprint\u001b[0m\u001b[0;34m(\u001b[0m\u001b[0;34m\"epoch %d, MSE: %.4f\"\u001b[0m \u001b[0;34m%\u001b[0m \u001b[0;34m(\u001b[0m\u001b[0me\u001b[0m\u001b[0;34m,\u001b[0m \u001b[0mc\u001b[0m\u001b[0;34m)\u001b[0m\u001b[0;34m)\u001b[0m\u001b[0;34m\u001b[0m\u001b[0m\n",
      "\u001b[0;32m~/.virtualenvs/ml3/lib/python3.6/site-packages/tensorflow/python/client/session.py\u001b[0m in \u001b[0;36mrun\u001b[0;34m(self, fetches, feed_dict, options, run_metadata)\u001b[0m\n\u001b[1;32m    893\u001b[0m     \u001b[0;32mtry\u001b[0m\u001b[0;34m:\u001b[0m\u001b[0;34m\u001b[0m\u001b[0m\n\u001b[1;32m    894\u001b[0m       result = self._run(None, fetches, feed_dict, options_ptr,\n\u001b[0;32m--> 895\u001b[0;31m                          run_metadata_ptr)\n\u001b[0m\u001b[1;32m    896\u001b[0m       \u001b[0;32mif\u001b[0m \u001b[0mrun_metadata\u001b[0m\u001b[0;34m:\u001b[0m\u001b[0;34m\u001b[0m\u001b[0m\n\u001b[1;32m    897\u001b[0m         \u001b[0mproto_data\u001b[0m \u001b[0;34m=\u001b[0m \u001b[0mtf_session\u001b[0m\u001b[0;34m.\u001b[0m\u001b[0mTF_GetBuffer\u001b[0m\u001b[0;34m(\u001b[0m\u001b[0mrun_metadata_ptr\u001b[0m\u001b[0;34m)\u001b[0m\u001b[0;34m\u001b[0m\u001b[0m\n",
      "\u001b[0;32m~/.virtualenvs/ml3/lib/python3.6/site-packages/tensorflow/python/client/session.py\u001b[0m in \u001b[0;36m_run\u001b[0;34m(self, handle, fetches, feed_dict, options, run_metadata)\u001b[0m\n\u001b[1;32m   1122\u001b[0m     \u001b[0;32mif\u001b[0m \u001b[0mfinal_fetches\u001b[0m \u001b[0;32mor\u001b[0m \u001b[0mfinal_targets\u001b[0m \u001b[0;32mor\u001b[0m \u001b[0;34m(\u001b[0m\u001b[0mhandle\u001b[0m \u001b[0;32mand\u001b[0m \u001b[0mfeed_dict_tensor\u001b[0m\u001b[0;34m)\u001b[0m\u001b[0;34m:\u001b[0m\u001b[0;34m\u001b[0m\u001b[0m\n\u001b[1;32m   1123\u001b[0m       results = self._do_run(handle, final_targets, final_fetches,\n\u001b[0;32m-> 1124\u001b[0;31m                              feed_dict_tensor, options, run_metadata)\n\u001b[0m\u001b[1;32m   1125\u001b[0m     \u001b[0;32melse\u001b[0m\u001b[0;34m:\u001b[0m\u001b[0;34m\u001b[0m\u001b[0m\n\u001b[1;32m   1126\u001b[0m       \u001b[0mresults\u001b[0m \u001b[0;34m=\u001b[0m \u001b[0;34m[\u001b[0m\u001b[0;34m]\u001b[0m\u001b[0;34m\u001b[0m\u001b[0m\n",
      "\u001b[0;32m~/.virtualenvs/ml3/lib/python3.6/site-packages/tensorflow/python/client/session.py\u001b[0m in \u001b[0;36m_do_run\u001b[0;34m(self, handle, target_list, fetch_list, feed_dict, options, run_metadata)\u001b[0m\n\u001b[1;32m   1319\u001b[0m     \u001b[0;32mif\u001b[0m \u001b[0mhandle\u001b[0m \u001b[0;32mis\u001b[0m \u001b[0;32mNone\u001b[0m\u001b[0;34m:\u001b[0m\u001b[0;34m\u001b[0m\u001b[0m\n\u001b[1;32m   1320\u001b[0m       return self._do_call(_run_fn, self._session, feeds, fetches, targets,\n\u001b[0;32m-> 1321\u001b[0;31m                            options, run_metadata)\n\u001b[0m\u001b[1;32m   1322\u001b[0m     \u001b[0;32melse\u001b[0m\u001b[0;34m:\u001b[0m\u001b[0;34m\u001b[0m\u001b[0m\n\u001b[1;32m   1323\u001b[0m       \u001b[0;32mreturn\u001b[0m \u001b[0mself\u001b[0m\u001b[0;34m.\u001b[0m\u001b[0m_do_call\u001b[0m\u001b[0;34m(\u001b[0m\u001b[0m_prun_fn\u001b[0m\u001b[0;34m,\u001b[0m \u001b[0mself\u001b[0m\u001b[0;34m.\u001b[0m\u001b[0m_session\u001b[0m\u001b[0;34m,\u001b[0m \u001b[0mhandle\u001b[0m\u001b[0;34m,\u001b[0m \u001b[0mfeeds\u001b[0m\u001b[0;34m,\u001b[0m \u001b[0mfetches\u001b[0m\u001b[0;34m)\u001b[0m\u001b[0;34m\u001b[0m\u001b[0m\n",
      "\u001b[0;32m~/.virtualenvs/ml3/lib/python3.6/site-packages/tensorflow/python/client/session.py\u001b[0m in \u001b[0;36m_do_call\u001b[0;34m(self, fn, *args)\u001b[0m\n\u001b[1;32m   1325\u001b[0m   \u001b[0;32mdef\u001b[0m \u001b[0m_do_call\u001b[0m\u001b[0;34m(\u001b[0m\u001b[0mself\u001b[0m\u001b[0;34m,\u001b[0m \u001b[0mfn\u001b[0m\u001b[0;34m,\u001b[0m \u001b[0;34m*\u001b[0m\u001b[0margs\u001b[0m\u001b[0;34m)\u001b[0m\u001b[0;34m:\u001b[0m\u001b[0;34m\u001b[0m\u001b[0m\n\u001b[1;32m   1326\u001b[0m     \u001b[0;32mtry\u001b[0m\u001b[0;34m:\u001b[0m\u001b[0;34m\u001b[0m\u001b[0m\n\u001b[0;32m-> 1327\u001b[0;31m       \u001b[0;32mreturn\u001b[0m \u001b[0mfn\u001b[0m\u001b[0;34m(\u001b[0m\u001b[0;34m*\u001b[0m\u001b[0margs\u001b[0m\u001b[0;34m)\u001b[0m\u001b[0;34m\u001b[0m\u001b[0m\n\u001b[0m\u001b[1;32m   1328\u001b[0m     \u001b[0;32mexcept\u001b[0m \u001b[0merrors\u001b[0m\u001b[0;34m.\u001b[0m\u001b[0mOpError\u001b[0m \u001b[0;32mas\u001b[0m \u001b[0me\u001b[0m\u001b[0;34m:\u001b[0m\u001b[0;34m\u001b[0m\u001b[0m\n\u001b[1;32m   1329\u001b[0m       \u001b[0mmessage\u001b[0m \u001b[0;34m=\u001b[0m \u001b[0mcompat\u001b[0m\u001b[0;34m.\u001b[0m\u001b[0mas_text\u001b[0m\u001b[0;34m(\u001b[0m\u001b[0me\u001b[0m\u001b[0;34m.\u001b[0m\u001b[0mmessage\u001b[0m\u001b[0;34m)\u001b[0m\u001b[0;34m\u001b[0m\u001b[0m\n",
      "\u001b[0;32m~/.virtualenvs/ml3/lib/python3.6/site-packages/tensorflow/python/client/session.py\u001b[0m in \u001b[0;36m_run_fn\u001b[0;34m(session, feed_dict, fetch_list, target_list, options, run_metadata)\u001b[0m\n\u001b[1;32m   1304\u001b[0m           return tf_session.TF_Run(session, options,\n\u001b[1;32m   1305\u001b[0m                                    \u001b[0mfeed_dict\u001b[0m\u001b[0;34m,\u001b[0m \u001b[0mfetch_list\u001b[0m\u001b[0;34m,\u001b[0m \u001b[0mtarget_list\u001b[0m\u001b[0;34m,\u001b[0m\u001b[0;34m\u001b[0m\u001b[0m\n\u001b[0;32m-> 1306\u001b[0;31m                                    status, run_metadata)\n\u001b[0m\u001b[1;32m   1307\u001b[0m \u001b[0;34m\u001b[0m\u001b[0m\n\u001b[1;32m   1308\u001b[0m     \u001b[0;32mdef\u001b[0m \u001b[0m_prun_fn\u001b[0m\u001b[0;34m(\u001b[0m\u001b[0msession\u001b[0m\u001b[0;34m,\u001b[0m \u001b[0mhandle\u001b[0m\u001b[0;34m,\u001b[0m \u001b[0mfeed_dict\u001b[0m\u001b[0;34m,\u001b[0m \u001b[0mfetch_list\u001b[0m\u001b[0;34m)\u001b[0m\u001b[0;34m:\u001b[0m\u001b[0;34m\u001b[0m\u001b[0m\n",
      "\u001b[0;31mKeyboardInterrupt\u001b[0m: "
     ]
    }
   ],
   "source": [
    "avg_acc = 0.0\n",
    "avg_auc = 0.0\n",
    "avg_mae = 0.0\n",
    "for fold in data.k_fold(5):\n",
    "    print(\"Fold %d\" % fold)\n",
    "    tf.global_variables_initializer().run()\n",
    "    lstm.train(sess, data, epochs=8)\n",
    "    acc, baseline, auc, mae = lstm.test(sess, data)\n",
    "    avg_acc += acc / 5.0\n",
    "    avg_auc += auc / 5.0\n",
    "    avg_mae += mae / 5.0\n",
    "    \n",
    "print(\"Average Accuracy: %.5f, Average AUC %.5f, Average Mean Absolute Error %.5f\" % (avg_acc, avg_auc, avg_mae))\n",
    "\n",
    "# Correctness Only, 1 Epoch: 87.7% accuracy, 89.12% accuracy\n",
    "# New Day by exercise, 1 Epoch: 87.7% accuracy\n",
    "# New Day, 2 Epoch: 87.7% accuracy min responses = 16800, ~91% accuracy"
   ]
  },
  {
   "cell_type": "code",
   "execution_count": 22,
   "metadata": {},
   "outputs": [],
   "source": [
    "reset_sess()"
   ]
  },
  {
   "cell_type": "markdown",
   "metadata": {},
   "source": [
    "  | Data Version  | Weighting | Learning Rate | Epochs | Accuracy  |  AUC    |  MAE    | Folds | Baseline  |\n",
    "  |---------------|:---------:|:-------------:|:------:|:---------:|:-------:|:-------:|:-----:|:---------:|\n",
    "  | New Day by exe| 1.0x      | 1e-2          | 8      | 89.574    | 0.98496 | 0.17835 |5      | 89.575    |\n",
    "  | New Day       | 1.5x      | 1e-2          | 8      | 89.61     | 0.984   | -       |5      | 89.575    |\n",
    "\n",
    "*Note: All versions predict by KC\n",
    "* min_seq_length = 5\n",
    "* max_seq_length = 3000\n",
    "* min_correct = 2\n",
    "* min_responses_for_skill = 16800"
   ]
  },
  {
   "cell_type": "markdown",
   "metadata": {},
   "source": [
    "  | Data Version  | Weighting | Learning Rate | Epochs Trained | Accuracy  |  AUC  | Folds | Baseline  |\n",
    "  |---------------|:---------:|:-------------:|:--------------:|:---------:|:-----:|:-----:|:---------:|\n",
    "  | Correctness   | None      | 1e-2          | 8              | 89.1      |~0.98  |3      | 89.1      |\n",
    "  | Correctness   | 2x        | 1e-2          | 8              | 89.08     | 0.977 |5      | 89.1      |\n",
    "  | Correctness   | 1.5x      | 1e-2          | 8              | 89.11     | 0.979 |4      | 89.1      |\n",
    "  |~~New Day~~    | 4x        | 1e-2          | 8              | 85.95     | 0.953 |2      | 89.1      |\n",
    "  |~~New Day~~    | 5x        | 1e-2          | 8              | 83.82     | 0.936 |1      | 89.1      |\n",
    "  |~~New Day~~    | 3x        | 1e-2          | 8              | 88.97     | 0.976 |5      | 89.1      |\n",
    "  |~~New Day~~    | 2x        | 1e-2          | 8              | 89.07     | 0.979 |2      | 89.1      |\n",
    "  |~~New Day~~    | 1.5x      | 1e-2          | 8              | 89.10     | 0.979 |4      | 89.1      |\n",
    "  |~~New Day~~    | 6x        | 1e-2          | 8              | 87.59     | 0.903 |5      | 89.1      |\n",
    "  |  New Day      | 2x        | 5e-3          | 8              | 89.11     | 0.978 |2      | 89.1      |\n",
    "  |  New Day      | 3x        | 5e-3          | 8              | 87.91     | 0.965 |3      | 89.1      |\n",
    "  |  New Day      | None      | 5e-3          | 8              | 89.09     | 0.979 |2      | 89.1      |\n",
    "  |  New Day      | 7.5x      | 5e-3          | 10             | 71.53     | 0.857 |1      | 89.1      |\n",
    "  |  New Day      | 1.5x      | 5e-3          | 9              | 89.20     | 0.979 |2      | 89.1      |\n",
    "\n",
    "*Note: All versions predict by KC\n",
    "* min_seq_length = 500\n",
    "* max_seq_length = 3000\n",
    "* min_correct = 2\n",
    "* min_responses_for_skill = 16800"
   ]
  },
  {
   "cell_type": "code",
   "execution_count": 38,
   "metadata": {},
   "outputs": [
    {
     "data": {
      "text/plain": [
       "array([ 0.,  1.,  0.,  0.,  0.,  0.,  0.,  0.,  0.,  0.,  0.,  0.])"
      ]
     },
     "execution_count": 38,
     "metadata": {},
     "output_type": "execute_result"
    }
   ],
   "source": [
    "data.target_masks[0][39]"
   ]
  },
  {
   "cell_type": "code",
   "execution_count": 13,
   "metadata": {},
   "outputs": [
    {
     "name": "stdout",
     "output_type": "stream",
     "text": [
      "Old Day, Prev Incorrect, Next Correct: 53026\n",
      "Old Day, Prev Correct, Next Correct: 528875\n",
      "Old Day, Prev Incorrect, Next Incorrect: 22101\n",
      "Old Day, Prev Correct, Next Incorrect: 53364\n",
      "New Day, Prev Incorrect, Next Correct: 1155\n",
      "New Day, Prev Correct, Next Correct: 7960\n",
      "New Day, Prev Incorrect, Next Incorrect: 505\n",
      "New Day, Prev Correct, Next Incorrect: 825\n"
     ]
    }
   ],
   "source": [
    "old_day_prev_incorrect_next_correct = np.sum((np.sum(data.inputs, \n",
    "                                                     axis=2) == 1) * (np.sum(data.target_masks, axis=2) == 1))\n",
    "old_day_prev_correct_next_correct = np.sum((np.sum(data.inputs, \n",
    "                                                     axis=2) == 2) * (np.sum(data.target_masks, axis=2) == 1))\n",
    "old_day_prev_incorrect_next_incorrect = np.sum((np.sum(data.inputs, \n",
    "                                                     axis=2) == 1) * (np.sum(data.target_masks, axis=2) == 6))\n",
    "old_day_prev_correct_next_incorrect = np.sum((np.sum(data.inputs, \n",
    "                                                     axis=2) == 2) * (np.sum(data.target_masks, axis=2) == 6))\n",
    "new_day_prev_incorrect_next_correct = np.sum((np.sum(data.inputs, \n",
    "                                                     axis=2) == 13) * (np.sum(data.target_masks, axis=2) == 1))\n",
    "new_day_prev_correct_next_correct = np.sum((np.sum(data.inputs, \n",
    "                                                     axis=2) == 14) * (np.sum(data.target_masks, axis=2) == 1))\n",
    "new_day_prev_incorrect_next_incorrect = np.sum((np.sum(data.inputs, \n",
    "                                                     axis=2) == 13) * (np.sum(data.target_masks, axis=2) == 6))\n",
    "new_day_prev_correct_next_incorrect = np.sum((np.sum(data.inputs, \n",
    "                                                     axis=2) == 14) * (np.sum(data.target_masks, axis=2) == 6))\n",
    "\n",
    "\n",
    "print(\"Old Day, Prev Incorrect, Next Correct: %d\" %old_day_prev_incorrect_next_correct)\n",
    "print(\"Old Day, Prev Correct, Next Correct: %d\" %old_day_prev_correct_next_correct)\n",
    "print(\"Old Day, Prev Incorrect, Next Incorrect: %d\" %old_day_prev_incorrect_next_incorrect)\n",
    "print(\"Old Day, Prev Correct, Next Incorrect: %d\" %old_day_prev_correct_next_incorrect)\n",
    "print(\"New Day, Prev Incorrect, Next Correct: %d\" %new_day_prev_incorrect_next_correct)\n",
    "print(\"New Day, Prev Correct, Next Correct: %d\" %new_day_prev_correct_next_correct)\n",
    "print(\"New Day, Prev Incorrect, Next Incorrect: %d\" %new_day_prev_incorrect_next_incorrect)\n",
    "print(\"New Day, Prev Correct, Next Incorrect: %d\" %new_day_prev_correct_next_incorrect)"
   ]
  },
  {
   "cell_type": "code",
   "execution_count": 15,
   "metadata": {},
   "outputs": [
    {
     "data": {
      "text/plain": [
       "950083200"
      ]
     },
     "execution_count": 15,
     "metadata": {},
     "output_type": "execute_result"
    }
   ],
   "source": [
    "data.inputs.nbytes"
   ]
  },
  {
   "cell_type": "code",
   "execution_count": null,
   "metadata": {},
   "outputs": [],
   "source": []
  }
 ],
 "metadata": {
  "kernelspec": {
   "display_name": "Python 3",
   "language": "python",
   "name": "python3"
  },
  "language_info": {
   "codemirror_mode": {
    "name": "ipython",
    "version": 3
   },
   "file_extension": ".py",
   "mimetype": "text/x-python",
   "name": "python",
   "nbconvert_exporter": "python",
   "pygments_lexer": "ipython3",
   "version": "3.6.0"
  }
 },
 "nbformat": 4,
 "nbformat_minor": 2
}
