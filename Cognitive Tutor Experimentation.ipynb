{
 "cells": [
  {
   "cell_type": "code",
   "execution_count": 18,
   "metadata": {},
   "outputs": [],
   "source": [
    "import numpy as np\n",
    "import pandas as pd\n",
    "import tensorflow as tf\n",
    "from data import InMemoryExerciseData\n",
    "from lstm import LSTM\n",
    "from encoder import Encoder\n",
    "\n",
    "def initialize_sess():\n",
    "    global sess\n",
    "    ruv = set(sess.run(tf.report_uninitialized_variables()))\n",
    "    uv = [v for v in tf.global_variables() if v.name.split(':')[0].encode('ascii') in ruv]\n",
    "    tf.variables_initializer(uv).run()\n",
    "    \n",
    "def reset_sess():\n",
    "    global sess\n",
    "    tf.reset_default_graph()\n",
    "    sess.close()\n",
    "    sess = tf.InteractiveSession()    \n",
    "\n",
    "sess = tf.InteractiveSession()\n",
    "\n",
    "min_seq_length = 500\n",
    "max_seq_length = 3000\n",
    "min_correct = 2\n",
    "min_responses_for_skill = 16800\n"
   ]
  },
  {
   "cell_type": "code",
   "execution_count": 2,
   "metadata": {},
   "outputs": [],
   "source": [
    "df = pd.read_csv('data/bridge_to_algebra_2006_2007_train.txt', sep='\\t', lineterminator='\\r',\n",
    "                 usecols=['Anon Student Id', 'KC(SubSkills)', 'Correct First Attempt', 'Corrects',\n",
    "                          'Incorrects', 'Step Start Time','Problem Name', 'Step Name'])\n"
   ]
  },
  {
   "cell_type": "code",
   "execution_count": 3,
   "metadata": {},
   "outputs": [],
   "source": [
    "df['date'] = pd.to_datetime(df['Step Start Time']).astype(np.int64)\n",
    "df.drop(['Step Start Time'], axis=1, inplace=True)"
   ]
  },
  {
   "cell_type": "code",
   "execution_count": 4,
   "metadata": {},
   "outputs": [],
   "source": [
    "df['_count'] = 1\n",
    "grouped_df = df.groupby('KC(SubSkills)').sum()"
   ]
  },
  {
   "cell_type": "code",
   "execution_count": 5,
   "metadata": {},
   "outputs": [
    {
     "name": "stdout",
     "output_type": "stream",
     "text": [
      "Num KCs: 12\n"
     ]
    }
   ],
   "source": [
    "for idx, x in enumerate(grouped_df['_count'].sort_values(ascending=False)):\n",
    "    if x < min_responses_for_skill:\n",
    "        break\n",
    "chosen_skill_names = grouped_df['_count'].sort_values(ascending=False)[0:idx].index\n",
    "print(\"Num KCs: %d\" % (len(chosen_skill_names)))\n",
    "df = df[df['KC(SubSkills)'].isin(chosen_skill_names)]"
   ]
  },
  {
   "cell_type": "code",
   "execution_count": 6,
   "metadata": {},
   "outputs": [
    {
     "name": "stdout",
     "output_type": "stream",
     "text": [
      "Num Students: 729\n"
     ]
    }
   ],
   "source": [
    "grouped_df = df.groupby('Anon Student Id').sum()\n",
    "filtered_uids = grouped_df[(grouped_df['_count'] >= min_seq_length) &\n",
    "                           (grouped_df['_count'] <= max_seq_length) &\n",
    "                           (grouped_df['Corrects'] >= min_correct)].reset_index()['Anon Student Id']\n",
    "print(\"Num Students: %d\" % (len(filtered_uids)))\n",
    "df = df[df['Anon Student Id'].isin(filtered_uids)]"
   ]
  },
  {
   "cell_type": "code",
   "execution_count": 21,
   "metadata": {},
   "outputs": [],
   "source": [
    "def correctness_only(df, verbose=True):\n",
    "    \"\"\"\n",
    "    Processes data to only include correctness of the previous question as input.\n",
    "    Ex. For exercises A and B:\n",
    "        [0, 0, 1, 0]\n",
    "        Means that the current response is for exercise B and is incorrect.\n",
    "    \"\"\"\n",
    "    num_students = df['Anon Student Id'].nunique()\n",
    "    num_skills = df['KC(SubSkills)'].nunique()\n",
    "\n",
    "    corrects = np.zeros((num_students, max_seq_length, 1))\n",
    "    mask = np.zeros((num_students, max_seq_length, 1))\n",
    "    sequences = np.zeros((num_students, max_seq_length, 2 * num_skills))\n",
    "\n",
    "    exercise_index_map = {}\n",
    "    for idx, exercise in enumerate(df['KC(SubSkills)'].unique()):\n",
    "        exercise_index_map[exercise] = idx * 2\n",
    "\n",
    "    for row_idx, uid in enumerate(df['Anon Student Id'].unique()):\n",
    "        uid_df = df[df['Anon Student Id'] == uid]\n",
    "        col_idx = 0\n",
    "\n",
    "        for _, event in uid_df.iterrows():\n",
    "            idx = exercise_index_map[event['KC(SubSkills)']]\n",
    "            sequences[row_idx, col_idx, idx] = 1\n",
    "            sequences[row_idx, col_idx, idx + 1] = event['Correct First Attempt']\n",
    "\n",
    "            corrects[row_idx, col_idx, 0] = event['Correct First Attempt']\n",
    "            mask[row_idx, col_idx, 0] = 1\n",
    "            col_idx += 1\n",
    "\n",
    "        if verbose and row_idx % 100 == 0:\n",
    "            print(\"Processed %d\" % row_idx)\n",
    "\n",
    "    return InMemoryExerciseData(sequences, mask, corrects)\n",
    "\n",
    "def new_day_by_exercise(df, new_day_threshold=5, verbose=True):\n",
    "    \"\"\"\n",
    "    Processes data to include correctness of the previous question and whether it has been a day since the\n",
    "    the last response to this skill.\n",
    "    Ex. For exercises A and B:\n",
    "        [0, 0, 1, 1, 0, 0]\n",
    "        Means that the current response is for exercise B, is incorrect and it is not a new day for B. It\n",
    "        is a new day for A.\n",
    "    \"\"\"\n",
    "    num_students = df['Anon Student Id'].nunique()\n",
    "    num_skills = df['KC(SubSkills)'].nunique()\n",
    "    new_day_threshold = 5 * 60 * 60 # Convert to seconds\n",
    "\n",
    "    corrects = np.zeros((num_students, max_seq_length, 1))\n",
    "    mask = np.zeros((num_students, max_seq_length, 1))\n",
    "    sequences = np.zeros((num_students, max_seq_length, 3 * num_skills))\n",
    "\n",
    "    exercise_index_map = {}\n",
    "    for idx, exercise in enumerate(df['KC(SubSkills)'].unique()):\n",
    "        exercise_index_map[exercise] = idx * 3\n",
    "\n",
    "    for row_idx, uid in enumerate(df['Anon Student Id'].unique()):\n",
    "        uid_df = df[df['Anon Student Id'] == uid]\n",
    "        col_idx = 0\n",
    "        prev_dates = np.zeros((3 * num_skills))\n",
    "\n",
    "        for _, event in uid_df.iterrows():\n",
    "            idx = exercise_index_map[event['KC(SubSkills)']]\n",
    "            sequences[row_idx, col_idx, idx] = 1\n",
    "            sequences[row_idx, col_idx, idx + 1] = event['Correct First Attempt']\n",
    "            sequences[row_idx, col_idx] += ((np.ones((3 * num_skills)) * event['date'] - prev_dates) * (prev_dates != 0)) > new_day_threshold\n",
    "                        \n",
    "            prev_dates[idx + 2] = event['date']\n",
    "            corrects[row_idx, col_idx, 0] = event['Correct First Attempt']\n",
    "            mask[row_idx, col_idx, 0] = 1\n",
    "            col_idx += 1\n",
    "\n",
    "        if verbose and row_idx % 100 == 0:\n",
    "            print(\"Processed %d\" % row_idx)\n",
    "\n",
    "    return InMemoryExerciseData(sequences, mask, corrects)\n",
    "\n",
    "def new_day(df, new_day_threshold=5, verbose=True):\n",
    "    \"\"\"\n",
    "    Processes data to include correctness of the previous question and whether it has been a day since the\n",
    "    the last response to this skill.\n",
    "    Ex. For exercises A and B:\n",
    "        [0, 0, 1, 1, 0, 1]\n",
    "        Means that the current response is for exercise B, is incorrect and it has been a day since the \n",
    "        previous response to an exercise.\n",
    "    \"\"\"\n",
    "    num_students = df['Anon Student Id'].nunique()\n",
    "    num_skills = df['KC(SubSkills)'].nunique()\n",
    "    new_day_threshold = 5 * 60 * 60 # Convert to seconds\n",
    "\n",
    "    corrects = np.zeros((num_students, max_seq_length, 1))\n",
    "    mask = np.zeros((num_students, max_seq_length, 1))\n",
    "    sequences = np.zeros((num_students, max_seq_length, 3 * num_skills))\n",
    "\n",
    "    exercise_index_map = {}\n",
    "    for idx, exercise in enumerate(df['KC(SubSkills)'].unique()):\n",
    "        exercise_index_map[exercise] = idx * 3\n",
    "\n",
    "    for row_idx, uid in enumerate(df['Anon Student Id'].unique()):\n",
    "        uid_df = df[df['Anon Student Id'] == uid]\n",
    "        col_idx = 0\n",
    "        prev_date = 0.0\n",
    "\n",
    "        for _, event in uid_df.iterrows():\n",
    "            idx = exercise_index_map[event['KC(SubSkills)']]\n",
    "            sequences[row_idx, col_idx, idx] = 1\n",
    "            sequences[row_idx, col_idx, idx + 1] = event['Correct First Attempt']\n",
    "            if event['date'] - prev_date > new_day_threshold:\n",
    "                sequences[row_idx, col_idx] += np.array([0, 0, 1] * num_skills)\n",
    "                        \n",
    "            prev_date = event['date']\n",
    "            corrects[row_idx, col_idx, 0] = event['Correct First Attempt']\n",
    "            mask[row_idx, col_idx, 0] = 1\n",
    "            col_idx += 1\n",
    "\n",
    "        if verbose and row_idx % 100 == 0:\n",
    "            print(\"Processed %d\" % row_idx)\n",
    "\n",
    "    return InMemoryExerciseData(sequences, mask, corrects)\n",
    "\n",
    "def new_day_correct_by_skill(df, new_day_threshold=5, verbose=True):\n",
    "    \"\"\"\n",
    "    Processes data to include correctness of the previous question and whether it has been a day since the\n",
    "    the last response to this skill.\n",
    "    Ex. For exercises A and B:\n",
    "        [0, 0, 1, 1, 0, 1]\n",
    "        Means that the current response is for exercise B, is incorrect and it has been a day since the \n",
    "        previous response to an exercise.\n",
    "    \"\"\"\n",
    "    num_students = df['Anon Student Id'].nunique()\n",
    "    num_skills = df['KC(SubSkills)'].nunique()\n",
    "    new_day_threshold = 5 * 60 * 60 # Convert to seconds\n",
    "\n",
    "    corrects = np.zeros((num_students, max_seq_length, num_skills))\n",
    "    mask = np.zeros((num_students, max_seq_length, num_skills))\n",
    "    sequences = np.zeros((num_students, max_seq_length, 3 * num_skills))\n",
    "\n",
    "    exercise_index_map = {}\n",
    "    for idx, exercise in enumerate(df['KC(SubSkills)'].unique()):\n",
    "        exercise_index_map[exercise] = idx * 3\n",
    "\n",
    "    for row_idx, uid in enumerate(df['Anon Student Id'].unique()):\n",
    "        uid_df = df[df['Anon Student Id'] == uid]\n",
    "        col_idx = 0\n",
    "        prev_date = 0.0\n",
    "\n",
    "        for _, event in uid_df.iterrows():\n",
    "            idx = exercise_index_map[event['KC(SubSkills)']]\n",
    "            sequences[row_idx, col_idx, idx] = 1\n",
    "            sequences[row_idx, col_idx, idx + 1] = event['Correct First Attempt']\n",
    "            if event['date'] - prev_date > new_day_threshold:\n",
    "                sequences[row_idx, col_idx] += np.array([0, 0, 1] * num_skills)\n",
    "                        \n",
    "            prev_date = event['date']\n",
    "            corrects[row_idx, col_idx, idx // 3] = event['Correct First Attempt']\n",
    "            mask[row_idx, col_idx, idx // 3] = 1\n",
    "            col_idx += 1\n",
    "\n",
    "        if verbose and row_idx % 100 == 0:\n",
    "            print(\"Processed %d\" % row_idx)\n",
    "\n",
    "    return InMemoryExerciseData(sequences, mask, corrects)\n",
    "\n",
    "def correctness_only_by_skill(df, verbose=True):\n",
    "    \"\"\"\n",
    "    Processes data to only include correctness of the previous question as input.\n",
    "    Ex. For exercises A and B:\n",
    "        [0, 0, 1, 0]\n",
    "        Means that the current response is for exercise B and is incorrect.\n",
    "    \"\"\"\n",
    "    num_students = df['Anon Student Id'].nunique()\n",
    "    num_skills = df['KC(SubSkills)'].nunique()\n",
    "\n",
    "    corrects = np.zeros((num_students, max_seq_length, num_skills))\n",
    "    mask = np.zeros((num_students, max_seq_length, num_skills))\n",
    "    sequences = np.zeros((num_students, max_seq_length, 2 * num_skills))\n",
    "\n",
    "    exercise_index_map = {}\n",
    "    for idx, exercise in enumerate(df['KC(SubSkills)'].unique()):\n",
    "        exercise_index_map[exercise] = idx * 2\n",
    "\n",
    "    for row_idx, uid in enumerate(df['Anon Student Id'].unique()):\n",
    "        uid_df = df[df['Anon Student Id'] == uid]\n",
    "        col_idx = 0\n",
    "\n",
    "        for _, event in uid_df.iterrows():\n",
    "            idx = exercise_index_map[event['KC(SubSkills)']]\n",
    "            sequences[row_idx, col_idx, idx] = 1\n",
    "            sequences[row_idx, col_idx, idx + 1] = event['Correct First Attempt']\n",
    "\n",
    "            corrects[row_idx, col_idx, idx // 2] = event['Correct First Attempt']\n",
    "            mask[row_idx, col_idx, idx // 2] = 1\n",
    "            col_idx += 1\n",
    "\n",
    "        if verbose and row_idx % 100 == 0:\n",
    "            print(\"Processed %d\" % row_idx)\n",
    "\n",
    "    return InMemoryExerciseData(sequences, mask, corrects)\n"
   ]
  },
  {
   "cell_type": "code",
   "execution_count": 22,
   "metadata": {},
   "outputs": [
    {
     "name": "stdout",
     "output_type": "stream",
     "text": [
      "Processed 0\n",
      "Processed 100\n",
      "Processed 200\n",
      "Processed 300\n",
      "Processed 400\n",
      "Processed 500\n",
      "Processed 600\n",
      "Processed 700\n"
     ]
    }
   ],
   "source": [
    "correctness_only_by_skill_data = correctness_only_by_skill(df)\n",
    "# new_day_data = new_day(df)\n",
    "# new_day_correct_by_skill_data = new_day_correct_by_skill(df)"
   ]
  },
  {
   "cell_type": "code",
   "execution_count": 23,
   "metadata": {},
   "outputs": [],
   "source": [
    "data = correctness_only_by_skill_data"
   ]
  },
  {
   "cell_type": "code",
   "execution_count": 24,
   "metadata": {},
   "outputs": [],
   "source": [
    "# Weight predicting incorrect higher\n",
    "data.target_masks = data.target_masks * 5 - data.targets * 4"
   ]
  },
  {
   "cell_type": "code",
   "execution_count": null,
   "metadata": {},
   "outputs": [],
   "source": [
    "lstm = LSTM(hidden_dim=200,\n",
    "            output_dim=data.targets.shape[2],\n",
    "            input_dim=data.inputs.shape[2],\n",
    "            learning_rate=1e-2,\n",
    "            batch_size=64,\n",
    "            num_layers=1)\n",
    "\n",
    "lstm.build_model(tf.sigmoid)"
   ]
  },
  {
   "cell_type": "code",
   "execution_count": null,
   "metadata": {},
   "outputs": [
    {
     "name": "stdout",
     "output_type": "stream",
     "text": [
      "Fold 1\n",
      "epoch 0, MSE: 0.3233\n",
      "epoch 1, MSE: 0.3147\n",
      "Accuracy: 0.9045, Baseline: 0.8910\n",
      "Fold 2\n",
      "epoch 0, MSE: 0.3193\n",
      "epoch 1, MSE: 0.3163\n",
      "Accuracy: 0.9468, Baseline: 0.8910\n",
      "Fold 3\n",
      "epoch 0, MSE: 0.3254\n",
      "epoch 1, MSE: 0.3164\n",
      "Accuracy: 0.9573, Baseline: 0.8910\n",
      "Fold 4\n",
      "epoch 0, MSE: 0.3206\n",
      "epoch 1, MSE: 0.3160\n",
      "Accuracy: 0.9194, Baseline: 0.8910\n",
      "Fold 5\n",
      "epoch 0, MSE: 0.3205\n"
     ]
    }
   ],
   "source": [
    "avg_acc = 0.0\n",
    "for fold in data.k_fold(5):\n",
    "    print(\"Fold %d\" % fold)\n",
    "    tf.global_variables_initializer().run()\n",
    "    lstm.train(sess, data, epochs=2)\n",
    "    acc, baseline = lstm.test(sess, data)\n",
    "    avg_acc += acc / 5.0\n",
    "\n",
    "print(\"Average Accuracy: %.4f\" % avg_acc)\n",
    "\n",
    "# Correctness Only, 1 Epoch: 87.7% accuracy, 89.12% accuracy\n",
    "# New Day by exercise, 1 Epoch: 87.7% accuracy\n",
    "# New Day, 2 Epoch: 87.7% accuracy min responses = 16800, ~91% accuracy"
   ]
  },
  {
   "cell_type": "code",
   "execution_count": 25,
   "metadata": {},
   "outputs": [],
   "source": [
    "reset_sess()"
   ]
  },
  {
   "cell_type": "code",
   "execution_count": 14,
   "metadata": {},
   "outputs": [
    {
     "data": {
      "text/plain": [
       "array([ 0.,  0.,  0.,  0.,  0.,  0.,  0.,  0.,  0.,  0.,  0.,  0.])"
      ]
     },
     "execution_count": 14,
     "metadata": {},
     "output_type": "execute_result"
    }
   ],
   "source": [
    "data.targets[0][40]"
   ]
  },
  {
   "cell_type": "code",
   "execution_count": 7,
   "metadata": {},
   "outputs": [
    {
     "data": {
      "text/plain": [
       "668540"
      ]
     },
     "execution_count": 7,
     "metadata": {},
     "output_type": "execute_result"
    }
   ],
   "source": [
    "len(df) # 668540"
   ]
  },
  {
   "cell_type": "code",
   "execution_count": 8,
   "metadata": {},
   "outputs": [
    {
     "data": {
      "text/plain": [
       "591674"
      ]
     },
     "execution_count": 8,
     "metadata": {},
     "output_type": "execute_result"
    }
   ],
   "source": [
    "df['Correct First Attempt'].sum()\n"
   ]
  },
  {
   "cell_type": "code",
   "execution_count": 9,
   "metadata": {},
   "outputs": [
    {
     "data": {
      "text/plain": [
       "0.8863498816550319"
      ]
     },
     "execution_count": 9,
     "metadata": {},
     "output_type": "execute_result"
    }
   ],
   "source": [
    "591674 / 667540\n"
   ]
  },
  {
   "cell_type": "code",
   "execution_count": 15,
   "metadata": {},
   "outputs": [
    {
     "data": {
      "text/plain": [
       "array([ 0.,  5.,  0.,  0.,  0.,  0.,  0.,  0.,  0.,  0.,  0.,  0.])"
      ]
     },
     "execution_count": 15,
     "metadata": {},
     "output_type": "execute_result"
    }
   ],
   "source": [
    "data.target_masks[0][40]\n"
   ]
  },
  {
   "cell_type": "code",
   "execution_count": 34,
   "metadata": {},
   "outputs": [],
   "source": [
    "old_target_masks = np.array(data.target_masks)"
   ]
  },
  {
   "cell_type": "code",
   "execution_count": null,
   "metadata": {},
   "outputs": [],
   "source": []
  }
 ],
 "metadata": {
  "kernelspec": {
   "display_name": "Python 3",
   "language": "python",
   "name": "python3"
  },
  "language_info": {
   "codemirror_mode": {
    "name": "ipython",
    "version": 3
   },
   "file_extension": ".py",
   "mimetype": "text/x-python",
   "name": "python",
   "nbconvert_exporter": "python",
   "pygments_lexer": "ipython3",
   "version": "3.6.0"
  }
 },
 "nbformat": 4,
 "nbformat_minor": 2
}
