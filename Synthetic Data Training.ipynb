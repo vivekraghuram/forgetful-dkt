{
 "cells": [
  {
   "cell_type": "code",
   "execution_count": 1,
   "metadata": {},
   "outputs": [
    {
     "name": "stdout",
     "output_type": "stream",
     "text": [
      "-\n"
     ]
    }
   ],
   "source": [
    "from lstm import LSTM\n",
    "from data import SyntheticData\n",
    "import tensorflow as tf\n",
    "import numpy as np\n",
    "\n",
    "np.random.seed(0)\n",
    "data = SyntheticData()\n",
    "lstm = LSTM(hidden_dim=128,\n",
    "            output_dim=1,\n",
    "            input_dim=1,\n",
    "            learning_rate=5e-3,\n",
    "            batch_size=25,\n",
    "            num_layers=3)\n",
    "\n",
    "lstm.build_model()\n",
    "\n",
    "print(\"-\")"
   ]
  },
  {
   "cell_type": "code",
   "execution_count": 2,
   "metadata": {},
   "outputs": [
    {
     "name": "stdout",
     "output_type": "stream",
     "text": [
      "epoch 0, MSE: 0.19112464785575867\n",
      "epoch 1, MSE: 0.16409087181091309\n",
      "epoch 2, MSE: 0.1940128058195114\n",
      "epoch 3, MSE: 0.1936485469341278\n",
      "epoch 4, MSE: 0.1668500006198883\n",
      "epoch 5, MSE: 0.18972162902355194\n",
      "epoch 6, MSE: 0.18417324125766754\n",
      "epoch 7, MSE: 0.17256693542003632\n",
      "epoch 8, MSE: 0.1526622325181961\n",
      "epoch 9, MSE: 0.1341681033372879\n",
      "epoch 10, MSE: 0.1741151064634323\n",
      "epoch 11, MSE: 0.15912942588329315\n",
      "epoch 12, MSE: 0.13779780268669128\n",
      "epoch 13, MSE: 0.14972159266471863\n",
      "epoch 14, MSE: 0.15172238647937775\n",
      "epoch 15, MSE: 0.16120044887065887\n",
      "epoch 16, MSE: 0.14994686841964722\n",
      "epoch 17, MSE: 0.12885932624340057\n",
      "epoch 18, MSE: 0.14898990094661713\n",
      "epoch 19, MSE: 0.13104884326457977\n",
      "Accuracy: 0.799157340355497, Baseline: 0.689321922317314\n"
     ]
    }
   ],
   "source": [
    "with tf.Session() as sess:\n",
    "    tf.global_variables_initializer().run()\n",
    "    lstm.train(sess, data, epochs=20)\n",
    "    lstm.test(sess, data)\n",
    "    \n",
    "# best: 80.9% w/ hidden_dim=128, learning_rate=7e-3, num_layers=3, epochs=20, batch_size=25"
   ]
  }
 ],
 "metadata": {
  "kernelspec": {
   "display_name": "Python 3",
   "language": "python",
   "name": "python3"
  },
  "language_info": {
   "codemirror_mode": {
    "name": "ipython",
    "version": 3
   },
   "file_extension": ".py",
   "mimetype": "text/x-python",
   "name": "python",
   "nbconvert_exporter": "python",
   "pygments_lexer": "ipython3",
   "version": "3.4.3"
  }
 },
 "nbformat": 4,
 "nbformat_minor": 2
}
